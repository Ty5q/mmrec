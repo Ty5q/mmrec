{
 "cells": [
  {
   "cell_type": "code",
   "execution_count": null,
   "id": "initial_id",
   "metadata": {
    "collapsed": true
   },
   "outputs": [],
   "source": [
    "import gzip\n",
    "import zipfile\n",
    "import random\n",
    "import os\n",
    "import re\n",
    "import subprocess\n",
    "import pandas as pd\n",
    "import numpy as np\n",
    "from datetime import datetime\n",
    "import json\n",
    "\n",
    "\n",
    "DATASET = 'ml-1m'\n",
    "RAW_PATH = os.path.join('../../data', DATASET)"
   ]
  },
  {
   "cell_type": "code",
   "execution_count": 2,
   "outputs": [],
   "source": [
    "# # Load Data\n",
    "\n",
    "# 1. Load interaction data and item metadata\n",
    "# 2. Filter out unuseful items\n",
    "# 3. Calculate basic statistics\n",
    "\n",
    "with zipfile.ZipFile(os.path.join(RAW_PATH, DATASET + '.zip')) as z:\n",
    "    if DATASET == 'ml-100k':\n",
    "        with z.open(os.path.join(DATASET, 'u.data')) as f:\n",
    "            data_df = pd.read_csv(f, sep=\"\\t\", header=None)\n",
    "        with z.open(os.path.join(DATASET, 'u.item')) as f:\n",
    "            meta_df = pd.read_csv(f, sep='|', header=None, encoding='ISO-8859-1')\n",
    "    elif DATASET == 'ml-1m':\n",
    "        # with z.open(os.path.join(DATASET, 'ratings.dat')) as f:\n",
    "        with z.open('ml-1m/ratings.dat') as f:\n",
    "            data_df = pd.read_csv(f, sep='::', header=None, engine='python', encoding_errors='ignore')\n",
    "        with z.open('ml-1m/movies.dat') as f:\n",
    "            meta_df = pd.read_csv(f, sep='::', header=None, engine='python', encoding_errors='ignore')"
   ],
   "metadata": {
    "collapsed": false,
    "ExecuteTime": {
     "end_time": "2025-01-14T08:24:18.304653900Z",
     "start_time": "2025-01-14T08:24:13.921952500Z"
    }
   },
   "id": "d4f86466ec1d40ad"
  },
  {
   "cell_type": "code",
   "execution_count": 3,
   "outputs": [
    {
     "data": {
      "text/plain": "   item_id                               title  i_Action  i_Adventure  \\\n0        1                    Toy Story (1995)         0            0   \n1        2                      Jumanji (1995)         0            1   \n2        3             Grumpier Old Men (1995)         0            0   \n3        4            Waiting to Exhale (1995)         0            0   \n4        5  Father of the Bride Part II (1995)         0            0   \n\n   i_Animation  i_Children's  i_Comedy  i_Crime  i_Documentary  i_Drama  ...  \\\n0            1             1         1        0              0        0  ...   \n1            0             1         0        0              0        0  ...   \n2            0             0         1        0              0        0  ...   \n3            0             0         1        0              0        1  ...   \n4            0             0         1        0              0        0  ...   \n\n   i_Film-Noir  i_Horror  i_Musical  i_Mystery  i_Romance  i_Sci-Fi  \\\n0            0         0          0          0          0         0   \n1            0         0          0          0          0         0   \n2            0         0          0          0          1         0   \n3            0         0          0          0          0         0   \n4            0         0          0          0          0         0   \n\n   i_Thriller  i_War  i_Western  i_Other  \n0           0      0          0        0  \n1           0      0          0        0  \n2           0      0          0        0  \n3           0      0          0        0  \n4           0      0          0        0  \n\n[5 rows x 21 columns]",
      "text/html": "<div>\n<style scoped>\n    .dataframe tbody tr th:only-of-type {\n        vertical-align: middle;\n    }\n\n    .dataframe tbody tr th {\n        vertical-align: top;\n    }\n\n    .dataframe thead th {\n        text-align: right;\n    }\n</style>\n<table border=\"1\" class=\"dataframe\">\n  <thead>\n    <tr style=\"text-align: right;\">\n      <th></th>\n      <th>item_id</th>\n      <th>title</th>\n      <th>i_Action</th>\n      <th>i_Adventure</th>\n      <th>i_Animation</th>\n      <th>i_Children's</th>\n      <th>i_Comedy</th>\n      <th>i_Crime</th>\n      <th>i_Documentary</th>\n      <th>i_Drama</th>\n      <th>...</th>\n      <th>i_Film-Noir</th>\n      <th>i_Horror</th>\n      <th>i_Musical</th>\n      <th>i_Mystery</th>\n      <th>i_Romance</th>\n      <th>i_Sci-Fi</th>\n      <th>i_Thriller</th>\n      <th>i_War</th>\n      <th>i_Western</th>\n      <th>i_Other</th>\n    </tr>\n  </thead>\n  <tbody>\n    <tr>\n      <th>0</th>\n      <td>1</td>\n      <td>Toy Story (1995)</td>\n      <td>0</td>\n      <td>0</td>\n      <td>1</td>\n      <td>1</td>\n      <td>1</td>\n      <td>0</td>\n      <td>0</td>\n      <td>0</td>\n      <td>...</td>\n      <td>0</td>\n      <td>0</td>\n      <td>0</td>\n      <td>0</td>\n      <td>0</td>\n      <td>0</td>\n      <td>0</td>\n      <td>0</td>\n      <td>0</td>\n      <td>0</td>\n    </tr>\n    <tr>\n      <th>1</th>\n      <td>2</td>\n      <td>Jumanji (1995)</td>\n      <td>0</td>\n      <td>1</td>\n      <td>0</td>\n      <td>1</td>\n      <td>0</td>\n      <td>0</td>\n      <td>0</td>\n      <td>0</td>\n      <td>...</td>\n      <td>0</td>\n      <td>0</td>\n      <td>0</td>\n      <td>0</td>\n      <td>0</td>\n      <td>0</td>\n      <td>0</td>\n      <td>0</td>\n      <td>0</td>\n      <td>0</td>\n    </tr>\n    <tr>\n      <th>2</th>\n      <td>3</td>\n      <td>Grumpier Old Men (1995)</td>\n      <td>0</td>\n      <td>0</td>\n      <td>0</td>\n      <td>0</td>\n      <td>1</td>\n      <td>0</td>\n      <td>0</td>\n      <td>0</td>\n      <td>...</td>\n      <td>0</td>\n      <td>0</td>\n      <td>0</td>\n      <td>0</td>\n      <td>1</td>\n      <td>0</td>\n      <td>0</td>\n      <td>0</td>\n      <td>0</td>\n      <td>0</td>\n    </tr>\n    <tr>\n      <th>3</th>\n      <td>4</td>\n      <td>Waiting to Exhale (1995)</td>\n      <td>0</td>\n      <td>0</td>\n      <td>0</td>\n      <td>0</td>\n      <td>1</td>\n      <td>0</td>\n      <td>0</td>\n      <td>1</td>\n      <td>...</td>\n      <td>0</td>\n      <td>0</td>\n      <td>0</td>\n      <td>0</td>\n      <td>0</td>\n      <td>0</td>\n      <td>0</td>\n      <td>0</td>\n      <td>0</td>\n      <td>0</td>\n    </tr>\n    <tr>\n      <th>4</th>\n      <td>5</td>\n      <td>Father of the Bride Part II (1995)</td>\n      <td>0</td>\n      <td>0</td>\n      <td>0</td>\n      <td>0</td>\n      <td>1</td>\n      <td>0</td>\n      <td>0</td>\n      <td>0</td>\n      <td>...</td>\n      <td>0</td>\n      <td>0</td>\n      <td>0</td>\n      <td>0</td>\n      <td>0</td>\n      <td>0</td>\n      <td>0</td>\n      <td>0</td>\n      <td>0</td>\n      <td>0</td>\n    </tr>\n  </tbody>\n</table>\n<p>5 rows × 21 columns</p>\n</div>"
     },
     "execution_count": 3,
     "metadata": {},
     "output_type": "execute_result"
    }
   ],
   "source": [
    "data_df = pd.read_csv(\"../../data/ml-1m/ratings.dat\", sep=r'::', header=None, engine='python', encoding_errors='ignore')\n",
    "meta_df = pd.read_csv('../../data/ml-1m/movies.dat', sep=r'::', header=None, engine='python', encoding_errors='ignore')\n",
    "\n",
    "data_df.columns = ['user_id', 'item_id', 'label', 'time']\n",
    "data_df.head()\n",
    "\n",
    "genres = [\n",
    "    'i_Action', 'i_Adventure', 'i_Animation', \"i_Children's\", 'i_Comedy', 'i_Crime', \n",
    "    'i_Documentary', 'i_Drama', 'i_Fantasy', 'i_Film-Noir', 'i_Horror', 'i_Musical', \n",
    "    'i_Mystery', 'i_Romance', 'i_Sci-Fi', 'i_Thriller', 'i_War', 'i_Western', 'i_Other'\n",
    "]\n",
    "# if DATASET == 'ml-100k':\n",
    "#     item_df = meta_df.drop([1, 3, 4], axis=1)\n",
    "#     item_df.columns = ['item_id', 'i_year'] + genres\n",
    "# elif DATASET == 'ml-1m' or 'ml-10m':\n",
    "#     item_df = meta_df.copy()\n",
    "#     item_df.columns = ['item_id', 'title', 'genre']\n",
    "#     # item_df['title'] = item_df['title'].apply(lambda x: x.decode('ISO-8859-1'))\n",
    "#     # item_df['genre'] = item_df['genre'].apply(lambda x: x.decode('ISO-8859-1'))\n",
    "#     genre_dict = dict()\n",
    "#     for g in genres:\n",
    "#         genre_dict[g] = np.zeros(len(item_df), dtype=np.int32)\n",
    "#     item_genre = item_df['genre'].apply(lambda x: x.split('|')).values\n",
    "#     for idx, genre_lst in enumerate(item_genre):\n",
    "#         for g in genre_lst:\n",
    "#             genre_dict['i_' + g][idx] = 1\n",
    "#     for g in genres:\n",
    "#         item_df[g] = genre_dict[g]\n",
    "#     item_df = item_df.drop(columns=['genre'])\n",
    "# item_df.head()\n",
    "item_df = meta_df.copy()\n",
    "item_df.columns = ['item_id', 'title', 'genre']\n",
    "\n",
    "genre_dict = dict()\n",
    "for g in genres:\n",
    "    genre_dict[g] = np.zeros(len(item_df), dtype=np.int32)\n",
    "item_genre = item_df['genre'].apply(lambda x: x.split('|')).values\n",
    "for idx, genre_lst in enumerate(item_genre):\n",
    "    for g in genre_lst:\n",
    "        genre_dict['i_' + g][idx] = 1\n",
    "for g in genres:\n",
    "    item_df[g] = genre_dict[g]\n",
    "item_df = item_df.drop(columns=['genre'])\n",
    "item_df.head()"
   ],
   "metadata": {
    "collapsed": false,
    "ExecuteTime": {
     "end_time": "2025-01-14T08:24:22.452978200Z",
     "start_time": "2025-01-14T08:24:18.308638200Z"
    }
   },
   "id": "c5ed82d8f8610bc6"
  },
  {
   "cell_type": "code",
   "execution_count": 4,
   "outputs": [],
   "source": [
    "item_df = item_df[item_df['item_id'].isin(data_df['item_id'])]"
   ],
   "metadata": {
    "collapsed": false,
    "ExecuteTime": {
     "end_time": "2025-01-14T08:24:22.459960500Z",
     "start_time": "2025-01-14T08:24:22.443376300Z"
    }
   },
   "id": "106e745a06c023d8"
  },
  {
   "cell_type": "code",
   "execution_count": 5,
   "outputs": [
    {
     "data": {
      "text/plain": "   item_id                               title  i_Action  i_Adventure  \\\n0        1                    Toy Story (1995)         0            0   \n1        2                      Jumanji (1995)         0            1   \n2        3             Grumpier Old Men (1995)         0            0   \n3        4            Waiting to Exhale (1995)         0            0   \n4        5  Father of the Bride Part II (1995)         0            0   \n\n   i_Animation  i_Children's  i_Comedy  i_Crime  i_Documentary  i_Drama  ...  \\\n0            1             1         1        0              0        0  ...   \n1            0             1         0        0              0        0  ...   \n2            0             0         1        0              0        0  ...   \n3            0             0         1        0              0        1  ...   \n4            0             0         1        0              0        0  ...   \n\n   i_Film-Noir  i_Horror  i_Musical  i_Mystery  i_Romance  i_Sci-Fi  \\\n0            0         0          0          0          0         0   \n1            0         0          0          0          0         0   \n2            0         0          0          0          1         0   \n3            0         0          0          0          0         0   \n4            0         0          0          0          0         0   \n\n   i_Thriller  i_War  i_Western  i_Other  \n0           0      0          0        0  \n1           0      0          0        0  \n2           0      0          0        0  \n3           0      0          0        0  \n4           0      0          0        0  \n\n[5 rows x 21 columns]",
      "text/html": "<div>\n<style scoped>\n    .dataframe tbody tr th:only-of-type {\n        vertical-align: middle;\n    }\n\n    .dataframe tbody tr th {\n        vertical-align: top;\n    }\n\n    .dataframe thead th {\n        text-align: right;\n    }\n</style>\n<table border=\"1\" class=\"dataframe\">\n  <thead>\n    <tr style=\"text-align: right;\">\n      <th></th>\n      <th>item_id</th>\n      <th>title</th>\n      <th>i_Action</th>\n      <th>i_Adventure</th>\n      <th>i_Animation</th>\n      <th>i_Children's</th>\n      <th>i_Comedy</th>\n      <th>i_Crime</th>\n      <th>i_Documentary</th>\n      <th>i_Drama</th>\n      <th>...</th>\n      <th>i_Film-Noir</th>\n      <th>i_Horror</th>\n      <th>i_Musical</th>\n      <th>i_Mystery</th>\n      <th>i_Romance</th>\n      <th>i_Sci-Fi</th>\n      <th>i_Thriller</th>\n      <th>i_War</th>\n      <th>i_Western</th>\n      <th>i_Other</th>\n    </tr>\n  </thead>\n  <tbody>\n    <tr>\n      <th>0</th>\n      <td>1</td>\n      <td>Toy Story (1995)</td>\n      <td>0</td>\n      <td>0</td>\n      <td>1</td>\n      <td>1</td>\n      <td>1</td>\n      <td>0</td>\n      <td>0</td>\n      <td>0</td>\n      <td>...</td>\n      <td>0</td>\n      <td>0</td>\n      <td>0</td>\n      <td>0</td>\n      <td>0</td>\n      <td>0</td>\n      <td>0</td>\n      <td>0</td>\n      <td>0</td>\n      <td>0</td>\n    </tr>\n    <tr>\n      <th>1</th>\n      <td>2</td>\n      <td>Jumanji (1995)</td>\n      <td>0</td>\n      <td>1</td>\n      <td>0</td>\n      <td>1</td>\n      <td>0</td>\n      <td>0</td>\n      <td>0</td>\n      <td>0</td>\n      <td>...</td>\n      <td>0</td>\n      <td>0</td>\n      <td>0</td>\n      <td>0</td>\n      <td>0</td>\n      <td>0</td>\n      <td>0</td>\n      <td>0</td>\n      <td>0</td>\n      <td>0</td>\n    </tr>\n    <tr>\n      <th>2</th>\n      <td>3</td>\n      <td>Grumpier Old Men (1995)</td>\n      <td>0</td>\n      <td>0</td>\n      <td>0</td>\n      <td>0</td>\n      <td>1</td>\n      <td>0</td>\n      <td>0</td>\n      <td>0</td>\n      <td>...</td>\n      <td>0</td>\n      <td>0</td>\n      <td>0</td>\n      <td>0</td>\n      <td>1</td>\n      <td>0</td>\n      <td>0</td>\n      <td>0</td>\n      <td>0</td>\n      <td>0</td>\n    </tr>\n    <tr>\n      <th>3</th>\n      <td>4</td>\n      <td>Waiting to Exhale (1995)</td>\n      <td>0</td>\n      <td>0</td>\n      <td>0</td>\n      <td>0</td>\n      <td>1</td>\n      <td>0</td>\n      <td>0</td>\n      <td>1</td>\n      <td>...</td>\n      <td>0</td>\n      <td>0</td>\n      <td>0</td>\n      <td>0</td>\n      <td>0</td>\n      <td>0</td>\n      <td>0</td>\n      <td>0</td>\n      <td>0</td>\n      <td>0</td>\n    </tr>\n    <tr>\n      <th>4</th>\n      <td>5</td>\n      <td>Father of the Bride Part II (1995)</td>\n      <td>0</td>\n      <td>0</td>\n      <td>0</td>\n      <td>0</td>\n      <td>1</td>\n      <td>0</td>\n      <td>0</td>\n      <td>0</td>\n      <td>...</td>\n      <td>0</td>\n      <td>0</td>\n      <td>0</td>\n      <td>0</td>\n      <td>0</td>\n      <td>0</td>\n      <td>0</td>\n      <td>0</td>\n      <td>0</td>\n      <td>0</td>\n    </tr>\n  </tbody>\n</table>\n<p>5 rows × 21 columns</p>\n</div>"
     },
     "execution_count": 5,
     "metadata": {},
     "output_type": "execute_result"
    }
   ],
   "source": [
    "item_df.head()"
   ],
   "metadata": {
    "collapsed": false,
    "ExecuteTime": {
     "end_time": "2025-01-14T08:24:22.500537800Z",
     "start_time": "2025-01-14T08:24:22.480537400Z"
    }
   },
   "id": "412be14b78c8983"
  },
  {
   "cell_type": "code",
   "execution_count": 6,
   "outputs": [
    {
     "name": "stdout",
     "output_type": "stream",
     "text": [
      "Filter before: 1000209\n",
      "Filter after: 999611\n",
      "1. statistic保存完毕\n",
      "# Users: 6040\n",
      "# Items: 3416\n",
      "# Interactions: 999611\n",
      "Time Span: 2000-04-25/2003-02-28\n"
     ]
    }
   ],
   "source": [
    "# Filter items\n",
    "\n",
    "print('Filter before:', len(data_df))\n",
    "filter_before = -1\n",
    "while filter_before != len(data_df):\n",
    "    filter_before = len(data_df)\n",
    "    for stage in ['user_id', 'item_id']:\n",
    "        val_cnt = data_df[stage].value_counts()\n",
    "        cnt_df = pd.DataFrame({stage: val_cnt.index, 'cnt': val_cnt.values})\n",
    "        data_df = pd.merge(data_df, cnt_df, on=stage, how='left')\n",
    "        data_df = data_df[data_df['cnt'] >= 5].drop(columns=['cnt'])\n",
    "print('Filter after:', len(data_df))\n",
    "# item_df = item_df[item_df['item_id'].isin(data_df['item_id'])]\n",
    "\n",
    "\n",
    "# ### Statistics\n",
    "\n",
    "# n_users = data_df['user_id'].value_counts().size\n",
    "# n_items = data_df['item_id'].value_counts().size\n",
    "n_users = len(np.unique(data_df['user_id'].values))\n",
    "n_items = len(np.unique(data_df['item_id'].values))\n",
    "n_clicks = len(data_df)\n",
    "min_time = data_df['time'].min()\n",
    "max_time = data_df['time'].max()\n",
    "\n",
    "np.savez(\"{}/{}_statistic.npz\".format(RAW_PATH, DATASET), n_users=n_users, n_items=n_items, n_clicks=n_clicks)\n",
    "print(\"1. statistic保存完毕\")\n",
    "\n",
    "\n",
    "time_format = '%Y-%m-%d'\n",
    "\n",
    "print('# Users:', n_users)\n",
    "print('# Items:', n_items)\n",
    "print('# Interactions:', n_clicks)\n",
    "print('Time Span: {}/{}'.format(\n",
    "    datetime.utcfromtimestamp(min_time).strftime(time_format),\n",
    "    datetime.utcfromtimestamp(max_time).strftime(time_format))\n",
    ")"
   ],
   "metadata": {
    "collapsed": false,
    "ExecuteTime": {
     "end_time": "2025-01-14T08:24:23.136290700Z",
     "start_time": "2025-01-14T08:24:22.481529200Z"
    }
   },
   "id": "ef7e51fce582673d"
  },
  {
   "cell_type": "code",
   "execution_count": 7,
   "outputs": [
    {
     "data": {
      "text/plain": "   user_id  item_id  label       time\n0        1     1193      5  978300760\n1        1      661      3  978302109\n2        1      914      3  978301968\n3        1     3408      4  978300275\n4        1     2355      5  978824291",
      "text/html": "<div>\n<style scoped>\n    .dataframe tbody tr th:only-of-type {\n        vertical-align: middle;\n    }\n\n    .dataframe tbody tr th {\n        vertical-align: top;\n    }\n\n    .dataframe thead th {\n        text-align: right;\n    }\n</style>\n<table border=\"1\" class=\"dataframe\">\n  <thead>\n    <tr style=\"text-align: right;\">\n      <th></th>\n      <th>user_id</th>\n      <th>item_id</th>\n      <th>label</th>\n      <th>time</th>\n    </tr>\n  </thead>\n  <tbody>\n    <tr>\n      <th>0</th>\n      <td>1</td>\n      <td>1193</td>\n      <td>5</td>\n      <td>978300760</td>\n    </tr>\n    <tr>\n      <th>1</th>\n      <td>1</td>\n      <td>661</td>\n      <td>3</td>\n      <td>978302109</td>\n    </tr>\n    <tr>\n      <th>2</th>\n      <td>1</td>\n      <td>914</td>\n      <td>3</td>\n      <td>978301968</td>\n    </tr>\n    <tr>\n      <th>3</th>\n      <td>1</td>\n      <td>3408</td>\n      <td>4</td>\n      <td>978300275</td>\n    </tr>\n    <tr>\n      <th>4</th>\n      <td>1</td>\n      <td>2355</td>\n      <td>5</td>\n      <td>978824291</td>\n    </tr>\n  </tbody>\n</table>\n</div>"
     },
     "execution_count": 7,
     "metadata": {},
     "output_type": "execute_result"
    }
   ],
   "source": [
    "data_df.head()"
   ],
   "metadata": {
    "collapsed": false,
    "ExecuteTime": {
     "end_time": "2025-01-14T08:24:23.146764400Z",
     "start_time": "2025-01-14T08:24:23.086688400Z"
    }
   },
   "id": "d77135e589d2e81f"
  },
  {
   "cell_type": "code",
   "execution_count": 10,
   "outputs": [
    {
     "data": {
      "text/plain": "   user_id  item_id       time\n0     6040      858  956703932\n1     6040      593  956703954\n2     6040     2384  956703954\n3     6040     1961  956703977\n4     6040     2019  956703977",
      "text/html": "<div>\n<style scoped>\n    .dataframe tbody tr th:only-of-type {\n        vertical-align: middle;\n    }\n\n    .dataframe tbody tr th {\n        vertical-align: top;\n    }\n\n    .dataframe thead th {\n        text-align: right;\n    }\n</style>\n<table border=\"1\" class=\"dataframe\">\n  <thead>\n    <tr style=\"text-align: right;\">\n      <th></th>\n      <th>user_id</th>\n      <th>item_id</th>\n      <th>time</th>\n    </tr>\n  </thead>\n  <tbody>\n    <tr>\n      <th>0</th>\n      <td>6040</td>\n      <td>858</td>\n      <td>956703932</td>\n    </tr>\n    <tr>\n      <th>1</th>\n      <td>6040</td>\n      <td>593</td>\n      <td>956703954</td>\n    </tr>\n    <tr>\n      <th>2</th>\n      <td>6040</td>\n      <td>2384</td>\n      <td>956703954</td>\n    </tr>\n    <tr>\n      <th>3</th>\n      <td>6040</td>\n      <td>1961</td>\n      <td>956703977</td>\n    </tr>\n    <tr>\n      <th>4</th>\n      <td>6040</td>\n      <td>2019</td>\n      <td>956703977</td>\n    </tr>\n  </tbody>\n</table>\n</div>"
     },
     "execution_count": 10,
     "metadata": {},
     "output_type": "execute_result"
    }
   ],
   "source": [
    "# # Build Dataset\n",
    "\n",
    "# ### Interaction data\n",
    "\n",
    "\n",
    "np.random.seed(2024)\n",
    "# NEG_ITEMS = 99\n",
    "\n",
    "out_df = data_df[['user_id', 'item_id', 'time']]\n",
    "out_df = out_df.drop_duplicates(['user_id', 'item_id', 'time'])\n",
    "out_df.sort_values(by=['time', 'user_id'], kind='mergesort', inplace=True)\n",
    "out_df = out_df.reset_index(drop=True)\n",
    "out_df.head()"
   ],
   "metadata": {
    "collapsed": false,
    "ExecuteTime": {
     "end_time": "2025-01-14T08:27:15.816717500Z",
     "start_time": "2025-01-14T08:27:15.331183900Z"
    }
   },
   "id": "2342ab6154665659"
  },
  {
   "cell_type": "code",
   "execution_count": 8,
   "outputs": [
    {
     "data": {
      "text/plain": "   user_id  item_id  label       time\n0     6040      858      4  956703932\n1     6040      593      5  956703954\n2     6040     2384      4  956703954\n3     6040     1961      4  956703977\n4     6040     2019      5  956703977",
      "text/html": "<div>\n<style scoped>\n    .dataframe tbody tr th:only-of-type {\n        vertical-align: middle;\n    }\n\n    .dataframe tbody tr th {\n        vertical-align: top;\n    }\n\n    .dataframe thead th {\n        text-align: right;\n    }\n</style>\n<table border=\"1\" class=\"dataframe\">\n  <thead>\n    <tr style=\"text-align: right;\">\n      <th></th>\n      <th>user_id</th>\n      <th>item_id</th>\n      <th>label</th>\n      <th>time</th>\n    </tr>\n  </thead>\n  <tbody>\n    <tr>\n      <th>0</th>\n      <td>6040</td>\n      <td>858</td>\n      <td>4</td>\n      <td>956703932</td>\n    </tr>\n    <tr>\n      <th>1</th>\n      <td>6040</td>\n      <td>593</td>\n      <td>5</td>\n      <td>956703954</td>\n    </tr>\n    <tr>\n      <th>2</th>\n      <td>6040</td>\n      <td>2384</td>\n      <td>4</td>\n      <td>956703954</td>\n    </tr>\n    <tr>\n      <th>3</th>\n      <td>6040</td>\n      <td>1961</td>\n      <td>4</td>\n      <td>956703977</td>\n    </tr>\n    <tr>\n      <th>4</th>\n      <td>6040</td>\n      <td>2019</td>\n      <td>5</td>\n      <td>956703977</td>\n    </tr>\n  </tbody>\n</table>\n</div>"
     },
     "execution_count": 8,
     "metadata": {},
     "output_type": "execute_result"
    }
   ],
   "source": [
    "# # Build Dataset\n",
    "\n",
    "# ### Interaction data\n",
    "\n",
    "\n",
    "np.random.seed(2024)\n",
    "# NEG_ITEMS = 99\n",
    "\n",
    "out1_df = data_df.copy()\n",
    "out1_df = out1_df.drop_duplicates(['user_id', 'item_id', 'time'])\n",
    "out1_df.sort_values(by=['time', 'user_id'], kind='mergesort', inplace=True)\n",
    "out1_df = out1_df.reset_index(drop=True)\n",
    "out1_df.head()"
   ],
   "metadata": {
    "collapsed": false,
    "ExecuteTime": {
     "end_time": "2025-01-14T08:26:36.843174900Z",
     "start_time": "2025-01-14T08:26:36.530983500Z"
    }
   },
   "id": "5a38a1308098fb0c"
  },
  {
   "cell_type": "code",
   "execution_count": 11,
   "outputs": [
    {
     "data": {
      "text/plain": "   user_id  item_id  label       time\n0     6040      721      4  956703932\n1     6040      550      5  956703954\n2     6040     2021      4  956703954\n3     6040     1631      4  956703977\n4     6040     1689      5  956703977",
      "text/html": "<div>\n<style scoped>\n    .dataframe tbody tr th:only-of-type {\n        vertical-align: middle;\n    }\n\n    .dataframe tbody tr th {\n        vertical-align: top;\n    }\n\n    .dataframe thead th {\n        text-align: right;\n    }\n</style>\n<table border=\"1\" class=\"dataframe\">\n  <thead>\n    <tr style=\"text-align: right;\">\n      <th></th>\n      <th>user_id</th>\n      <th>item_id</th>\n      <th>label</th>\n      <th>time</th>\n    </tr>\n  </thead>\n  <tbody>\n    <tr>\n      <th>0</th>\n      <td>6040</td>\n      <td>721</td>\n      <td>4</td>\n      <td>956703932</td>\n    </tr>\n    <tr>\n      <th>1</th>\n      <td>6040</td>\n      <td>550</td>\n      <td>5</td>\n      <td>956703954</td>\n    </tr>\n    <tr>\n      <th>2</th>\n      <td>6040</td>\n      <td>2021</td>\n      <td>4</td>\n      <td>956703954</td>\n    </tr>\n    <tr>\n      <th>3</th>\n      <td>6040</td>\n      <td>1631</td>\n      <td>4</td>\n      <td>956703977</td>\n    </tr>\n    <tr>\n      <th>4</th>\n      <td>6040</td>\n      <td>1689</td>\n      <td>5</td>\n      <td>956703977</td>\n    </tr>\n  </tbody>\n</table>\n</div>"
     },
     "execution_count": 11,
     "metadata": {},
     "output_type": "execute_result"
    }
   ],
   "source": [
    "# reindex (start from 1)\n",
    "\n",
    "uids = sorted(out_df['user_id'].unique())\n",
    "user2id = dict(zip(uids, range(1, len(uids) + 1)))\n",
    "iids = sorted(out_df['item_id'].unique())\n",
    "item2id = dict(zip(iids, range(1, len(iids) + 1)))\n",
    "\n",
    "out1_df['user_id'] = out1_df['user_id'].apply(lambda x: user2id[x])\n",
    "out1_df['item_id'] = out1_df['item_id'].apply(lambda x: item2id[x])\n",
    "out1_df.head()"
   ],
   "metadata": {
    "collapsed": false,
    "ExecuteTime": {
     "end_time": "2025-01-14T08:27:18.751009300Z",
     "start_time": "2025-01-14T08:27:17.938863500Z"
    }
   },
   "id": "4c24d528e71807c3"
  },
  {
   "cell_type": "code",
   "execution_count": 12,
   "outputs": [
    {
     "data": {
      "text/plain": "   user_id  item_id       time\n0     6040      721  956703932\n1     6040      550  956703954\n2     6040     2021  956703954\n3     6040     1631  956703977\n4     6040     1689  956703977",
      "text/html": "<div>\n<style scoped>\n    .dataframe tbody tr th:only-of-type {\n        vertical-align: middle;\n    }\n\n    .dataframe tbody tr th {\n        vertical-align: top;\n    }\n\n    .dataframe thead th {\n        text-align: right;\n    }\n</style>\n<table border=\"1\" class=\"dataframe\">\n  <thead>\n    <tr style=\"text-align: right;\">\n      <th></th>\n      <th>user_id</th>\n      <th>item_id</th>\n      <th>time</th>\n    </tr>\n  </thead>\n  <tbody>\n    <tr>\n      <th>0</th>\n      <td>6040</td>\n      <td>721</td>\n      <td>956703932</td>\n    </tr>\n    <tr>\n      <th>1</th>\n      <td>6040</td>\n      <td>550</td>\n      <td>956703954</td>\n    </tr>\n    <tr>\n      <th>2</th>\n      <td>6040</td>\n      <td>2021</td>\n      <td>956703954</td>\n    </tr>\n    <tr>\n      <th>3</th>\n      <td>6040</td>\n      <td>1631</td>\n      <td>956703977</td>\n    </tr>\n    <tr>\n      <th>4</th>\n      <td>6040</td>\n      <td>1689</td>\n      <td>956703977</td>\n    </tr>\n  </tbody>\n</table>\n</div>"
     },
     "execution_count": 12,
     "metadata": {},
     "output_type": "execute_result"
    }
   ],
   "source": [
    "# reindex (start from 1)\n",
    "\n",
    "uids = sorted(out_df['user_id'].unique())\n",
    "user2id = dict(zip(uids, range(1, len(uids) + 1)))\n",
    "iids = sorted(out_df['item_id'].unique())\n",
    "item2id = dict(zip(iids, range(1, len(iids) + 1)))\n",
    "\n",
    "out_df['user_id'] = out_df['user_id'].apply(lambda x: user2id[x])\n",
    "out_df['item_id'] = out_df['item_id'].apply(lambda x: item2id[x])\n",
    "out_df.head()"
   ],
   "metadata": {
    "collapsed": false,
    "ExecuteTime": {
     "end_time": "2025-01-14T08:27:23.701788100Z",
     "start_time": "2025-01-14T08:27:22.748396700Z"
    }
   },
   "id": "6c7a04ebe5fc06fc"
  },
  {
   "cell_type": "code",
   "execution_count": 13,
   "outputs": [
    {
     "name": "stdout",
     "output_type": "stream",
     "text": [
      "2. clicked set保存完毕\n",
      "3. 冷热门数据保存完毕\n"
     ]
    }
   ],
   "source": [
    "# leave one out spliting\n",
    "\n",
    "clicked_item_set = dict()\n",
    "for user_id, seq_df in out_df.groupby('user_id'):\n",
    "    clicked_item_set[user_id] = seq_df['item_id'].values.tolist()\n",
    "\n",
    "with open('{}/{}_clicked_items.json'.format(RAW_PATH, DATASET), 'w') as f:\n",
    "    json.dump(clicked_item_set, f)\n",
    "print(\"2. clicked set保存完毕\")\n",
    "\n",
    "item_count = np.zeros(shape=n_items+1)\n",
    "for key, values in clicked_item_set.items():\n",
    "    for item in values:\n",
    "        item_count[item] += 1\n",
    "sorted_idx = item_count.argsort()\n",
    "np.savez('{}/{}_item_count.npz'.format(RAW_PATH, DATASET), counts=item_count, idxes=sorted_idx[1:])\n",
    "print(\"3. 冷热门数据保存完毕\")"
   ],
   "metadata": {
    "collapsed": false,
    "ExecuteTime": {
     "end_time": "2025-01-14T08:27:31.788560400Z",
     "start_time": "2025-01-14T08:27:30.272467200Z"
    }
   },
   "id": "2402221a7aa4830b"
  },
  {
   "cell_type": "code",
   "execution_count": 15,
   "outputs": [
    {
     "name": "stdout",
     "output_type": "stream",
     "text": [
      "4. gt count保存完毕\n",
      "5. gt保存完毕\n",
      "neg items的数量为340\n",
      "4. gt count保存完毕\n",
      "5. gt保存完毕\n",
      "neg items的数量为340\n"
     ]
    }
   ],
   "source": [
    "def generate_dev_test(data_df, rate=0.2):\n",
    "    user_groups = data_df.groupby('user_id')\n",
    "    user_ids = list(user_groups.groups.keys())\n",
    "    counts, gts = {}, {}\n",
    "    n_users = data_df['user_id'].max()\n",
    "    neg_avg = 0\n",
    "    for i in range(1, n_users+1):\n",
    "        if i not in user_ids:\n",
    "            continue\n",
    "\n",
    "        cur_group = user_groups.get_group(i)\n",
    "        gt_num = int(np.ceil(rate * cur_group['item_id'].count()))\n",
    "        counts[i] = gt_num  # 保存每个用户gt的个数\n",
    "        neg_avg += gt_num\n",
    "        cur_tail = cur_group.tail(gt_num)\n",
    "        cur_gt = cur_tail['item_id'].values\n",
    "        gts[i] = cur_gt.tolist()  # 保存每个用户的ft\n",
    "    with open('{}/{}_count.json'.format(RAW_PATH, DATASET), 'w') as fs:\n",
    "        json.dump(counts, fs)\n",
    "    print(\"4. gt count保存完毕\")\n",
    "    with open('{}/{}_ground_truth.json'.format(RAW_PATH, DATASET), 'w') as fs:\n",
    "        json.dump(gts, fs)\n",
    "    print(\"5. gt保存完毕\")\n",
    "\n",
    "    neg_num = int(np.ceil(neg_avg/n_users) * 10)\n",
    "    print('neg items的数量为{}'.format(neg_num))\n",
    "    result_dfs = []\n",
    "    for idx in range(2):\n",
    "        result_df = None\n",
    "        user_groups = data_df.groupby('user_id')\n",
    "        user_ids = list(user_groups.groups.keys())\n",
    "        for i in range(1, n_users + 1):\n",
    "            if i not in user_ids:\n",
    "                continue\n",
    "            cur_tail = user_groups.get_group(i).tail(counts[i])\n",
    "            if result_df is None:\n",
    "                result_df = cur_tail.copy()\n",
    "            else:\n",
    "                result_df = pd.concat([result_df, cur_tail], axis=0)\n",
    "        result_df = result_df.copy()\n",
    "        # result_df = data_df.groupby('user_id').tail(1).copy()\n",
    "        # 去除形成test和dev的数据\n",
    "        data_df = data_df.drop(result_df.index)\n",
    "        \n",
    "        result_df = result_df.groupby('user_id').head(1)\n",
    "        neg_items = []\n",
    "        a_items = set(np.arange(1, n_items + 1, 1))\n",
    "        for i in range(1, n_users+1):\n",
    "            if i not in user_ids:\n",
    "                continue\n",
    "            # neg_num = min(counts[i] * 200, n_items - len(clicked_item_set[i])) - counts[i]\n",
    "            gt_len = counts[i]\n",
    "            if gt_len > 10:\n",
    "                gt_len = 10\n",
    "            cneg_num = neg_num - gt_len + 1\n",
    "            unclicked = list(set(clicked_item_set[i]) ^ a_items)\n",
    "            if len(unclicked) <= cneg_num:\n",
    "                neg_items.append(gts[i][1:gt_len] + unclicked)\n",
    "            else:\n",
    "                neg_items.append(gts[i][1:gt_len] + random.sample(unclicked, cneg_num))\n",
    "            # else:\n",
    "            #     neg_items.append(random.sample(unclicked, cneg_num))\n",
    "        result_df['neg_items'] = neg_items\n",
    "        result_dfs.append(result_df)\n",
    "    return result_dfs, data_df\n",
    "\n",
    "\n",
    "leave_df = out_df.groupby('user_id').head(1)\n",
    "leave1_df = out1_df.groupby('user_id').head(1)\n",
    "data_df = out_df.drop(leave_df.index)\n",
    "data1_df = out1_df.drop(leave1_df.index)\n",
    "\n",
    "[test_df, dev_df], data_df = generate_dev_test(data_df)\n",
    "[test1_df, dev1_df], data1_df = generate_dev_test(data1_df)\n",
    "# real_test_df = test_df.groupby('user_id').head(1)\n",
    "# real_dev_df = dev_df.groupby('user_id').head(1)\n",
    "\n",
    "train_df = pd.concat([leave_df, data_df]).sort_index()\n",
    "train1_df = pd.concat([leave1_df, data1_df]).sort_index()\n",
    "\n",
    "# # 重置索引\n",
    "# train_df.reset_index(drop=True, inplace=True)\n",
    "# test_df.reset_index(drop=True, inplace=True)\n",
    "# dev_df.reset_index(drop=True, inplace=True)"
   ],
   "metadata": {
    "collapsed": false,
    "ExecuteTime": {
     "end_time": "2025-01-14T08:28:46.617474500Z",
     "start_time": "2025-01-14T08:28:21.745485400Z"
    }
   },
   "id": "76cd4b38b45ccf55"
  },
  {
   "cell_type": "code",
   "execution_count": null,
   "outputs": [],
   "source": [],
   "metadata": {
    "collapsed": false
   },
   "id": "773620754c36f19b"
  },
  {
   "cell_type": "code",
   "execution_count": 11,
   "outputs": [
    {
     "data": {
      "text/plain": "(597337, 6040, 6040)"
     },
     "execution_count": 11,
     "metadata": {},
     "output_type": "execute_result"
    }
   ],
   "source": [
    "len(train_df), len(dev_df), len(test_df)"
   ],
   "metadata": {
    "collapsed": false,
    "ExecuteTime": {
     "end_time": "2024-05-29T09:14:21.743470700Z",
     "start_time": "2024-05-29T09:14:21.742478200Z"
    }
   },
   "id": "f157009be2b045c8"
  },
  {
   "cell_type": "code",
   "execution_count": 16,
   "outputs": [],
   "source": [
    "train_df.to_csv(os.path.join(RAW_PATH, 'train.csv'), sep='\\t', index=False)\n",
    "dev_df.to_csv(os.path.join(RAW_PATH, 'dev.csv'), sep='\\t', index=False)\n",
    "test_df.to_csv(os.path.join(RAW_PATH, 'test.csv'), sep='\\t', index=False)\n",
    "train1_df.to_csv(os.path.join(RAW_PATH, 'train2.csv'), sep='\\t', index=False)\n",
    "dev1_df.to_csv(os.path.join(RAW_PATH, 'dev2.csv'), sep='\\t', index=False)\n",
    "test1_df.to_csv(os.path.join(RAW_PATH, 'test2.csv'), sep='\\t', index=False)"
   ],
   "metadata": {
    "collapsed": false,
    "ExecuteTime": {
     "end_time": "2025-01-14T08:29:10.230094200Z",
     "start_time": "2025-01-14T08:29:03.909949900Z"
    }
   },
   "id": "21face3bc4a2d1e2"
  },
  {
   "cell_type": "code",
   "execution_count": 17,
   "outputs": [
    {
     "data": {
      "text/plain": "        user_id  item_id  label        time\n0          6040      721      4   956703932\n1          6040      550      5   956703954\n2          6040     2021      4   956703954\n3          6040     1631      4   956703977\n4          6040     1689      5   956703977\n...         ...      ...    ...         ...\n999041     5484      548      4  1045440226\n999042     5484     3343      5  1045440226\n999043     5484      761      5  1045440283\n999044     5484     1005      5  1045440283\n999045     5484     1061      5  1045440283\n\n[597337 rows x 4 columns]",
      "text/html": "<div>\n<style scoped>\n    .dataframe tbody tr th:only-of-type {\n        vertical-align: middle;\n    }\n\n    .dataframe tbody tr th {\n        vertical-align: top;\n    }\n\n    .dataframe thead th {\n        text-align: right;\n    }\n</style>\n<table border=\"1\" class=\"dataframe\">\n  <thead>\n    <tr style=\"text-align: right;\">\n      <th></th>\n      <th>user_id</th>\n      <th>item_id</th>\n      <th>label</th>\n      <th>time</th>\n    </tr>\n  </thead>\n  <tbody>\n    <tr>\n      <th>0</th>\n      <td>6040</td>\n      <td>721</td>\n      <td>4</td>\n      <td>956703932</td>\n    </tr>\n    <tr>\n      <th>1</th>\n      <td>6040</td>\n      <td>550</td>\n      <td>5</td>\n      <td>956703954</td>\n    </tr>\n    <tr>\n      <th>2</th>\n      <td>6040</td>\n      <td>2021</td>\n      <td>4</td>\n      <td>956703954</td>\n    </tr>\n    <tr>\n      <th>3</th>\n      <td>6040</td>\n      <td>1631</td>\n      <td>4</td>\n      <td>956703977</td>\n    </tr>\n    <tr>\n      <th>4</th>\n      <td>6040</td>\n      <td>1689</td>\n      <td>5</td>\n      <td>956703977</td>\n    </tr>\n    <tr>\n      <th>...</th>\n      <td>...</td>\n      <td>...</td>\n      <td>...</td>\n      <td>...</td>\n    </tr>\n    <tr>\n      <th>999041</th>\n      <td>5484</td>\n      <td>548</td>\n      <td>4</td>\n      <td>1045440226</td>\n    </tr>\n    <tr>\n      <th>999042</th>\n      <td>5484</td>\n      <td>3343</td>\n      <td>5</td>\n      <td>1045440226</td>\n    </tr>\n    <tr>\n      <th>999043</th>\n      <td>5484</td>\n      <td>761</td>\n      <td>5</td>\n      <td>1045440283</td>\n    </tr>\n    <tr>\n      <th>999044</th>\n      <td>5484</td>\n      <td>1005</td>\n      <td>5</td>\n      <td>1045440283</td>\n    </tr>\n    <tr>\n      <th>999045</th>\n      <td>5484</td>\n      <td>1061</td>\n      <td>5</td>\n      <td>1045440283</td>\n    </tr>\n  </tbody>\n</table>\n<p>597337 rows × 4 columns</p>\n</div>"
     },
     "execution_count": 17,
     "metadata": {},
     "output_type": "execute_result"
    }
   ],
   "source": [
    "train1_df"
   ],
   "metadata": {
    "collapsed": false,
    "ExecuteTime": {
     "end_time": "2025-01-14T08:29:40.487205500Z",
     "start_time": "2025-01-14T08:29:40.455968900Z"
    }
   },
   "id": "f7fb39f2952d9232"
  },
  {
   "cell_type": "code",
   "execution_count": 18,
   "outputs": [],
   "source": [
    "morem_c = train1_df.drop(columns=['time'])"
   ],
   "metadata": {
    "collapsed": false,
    "ExecuteTime": {
     "end_time": "2025-01-14T08:32:53.155550600Z",
     "start_time": "2025-01-14T08:32:53.111016900Z"
    }
   },
   "id": "522a96814fed168f"
  },
  {
   "cell_type": "code",
   "execution_count": 19,
   "outputs": [
    {
     "data": {
      "text/plain": "        user_id  item_id  label\n0          6040      721      4\n1          6040      550      5\n2          6040     2021      4\n3          6040     1631      4\n4          6040     1689      5\n...         ...      ...    ...\n999041     5484      548      4\n999042     5484     3343      5\n999043     5484      761      5\n999044     5484     1005      5\n999045     5484     1061      5\n\n[597337 rows x 3 columns]",
      "text/html": "<div>\n<style scoped>\n    .dataframe tbody tr th:only-of-type {\n        vertical-align: middle;\n    }\n\n    .dataframe tbody tr th {\n        vertical-align: top;\n    }\n\n    .dataframe thead th {\n        text-align: right;\n    }\n</style>\n<table border=\"1\" class=\"dataframe\">\n  <thead>\n    <tr style=\"text-align: right;\">\n      <th></th>\n      <th>user_id</th>\n      <th>item_id</th>\n      <th>label</th>\n    </tr>\n  </thead>\n  <tbody>\n    <tr>\n      <th>0</th>\n      <td>6040</td>\n      <td>721</td>\n      <td>4</td>\n    </tr>\n    <tr>\n      <th>1</th>\n      <td>6040</td>\n      <td>550</td>\n      <td>5</td>\n    </tr>\n    <tr>\n      <th>2</th>\n      <td>6040</td>\n      <td>2021</td>\n      <td>4</td>\n    </tr>\n    <tr>\n      <th>3</th>\n      <td>6040</td>\n      <td>1631</td>\n      <td>4</td>\n    </tr>\n    <tr>\n      <th>4</th>\n      <td>6040</td>\n      <td>1689</td>\n      <td>5</td>\n    </tr>\n    <tr>\n      <th>...</th>\n      <td>...</td>\n      <td>...</td>\n      <td>...</td>\n    </tr>\n    <tr>\n      <th>999041</th>\n      <td>5484</td>\n      <td>548</td>\n      <td>4</td>\n    </tr>\n    <tr>\n      <th>999042</th>\n      <td>5484</td>\n      <td>3343</td>\n      <td>5</td>\n    </tr>\n    <tr>\n      <th>999043</th>\n      <td>5484</td>\n      <td>761</td>\n      <td>5</td>\n    </tr>\n    <tr>\n      <th>999044</th>\n      <td>5484</td>\n      <td>1005</td>\n      <td>5</td>\n    </tr>\n    <tr>\n      <th>999045</th>\n      <td>5484</td>\n      <td>1061</td>\n      <td>5</td>\n    </tr>\n  </tbody>\n</table>\n<p>597337 rows × 3 columns</p>\n</div>"
     },
     "execution_count": 19,
     "metadata": {},
     "output_type": "execute_result"
    }
   ],
   "source": [
    "morem_c"
   ],
   "metadata": {
    "collapsed": false,
    "ExecuteTime": {
     "end_time": "2025-01-14T08:32:59.101051Z",
     "start_time": "2025-01-14T08:32:59.076802200Z"
    }
   },
   "id": "79447c79ec5ce613"
  },
  {
   "cell_type": "code",
   "execution_count": 28,
   "outputs": [],
   "source": [
    "unique_users = data_df['user_id'].unique()\n",
    "unique_items = data_df['item_id'].unique()\n",
    "\n",
    "num_users = len(unique_users)\n",
    "num_items = len(unique_items)\n",
    "user_to_index = {user: idx for idx, user in enumerate(unique_users)}\n",
    "item_to_index = {item: idx for idx, item in enumerate(unique_items)}\n",
    "rating_matrix = np.zeros((num_users, num_items))\n",
    "for index, row in morem_c.iterrows():\n",
    "    user_idx = user_to_index[row['user_id']]\n",
    "    item_idx = item_to_index[row['item_id']]\n",
    "    rating_matrix[user_idx, item_idx] = row['label']"
   ],
   "metadata": {
    "collapsed": false,
    "ExecuteTime": {
     "end_time": "2025-01-14T08:44:58.211482900Z",
     "start_time": "2025-01-14T08:44:37.745203Z"
    }
   },
   "id": "7dfa907f1122b750"
  },
  {
   "cell_type": "code",
   "execution_count": 29,
   "outputs": [
    {
     "data": {
      "text/plain": "array([[5., 4., 4., ..., 0., 0., 0.],\n       [0., 0., 0., ..., 0., 0., 0.],\n       [0., 0., 0., ..., 0., 0., 0.],\n       ...,\n       [0., 0., 0., ..., 0., 0., 0.],\n       [4., 0., 0., ..., 0., 0., 0.],\n       [3., 0., 0., ..., 0., 0., 0.]])"
     },
     "execution_count": 29,
     "metadata": {},
     "output_type": "execute_result"
    }
   ],
   "source": [
    "rating_matrix"
   ],
   "metadata": {
    "collapsed": false,
    "ExecuteTime": {
     "end_time": "2025-01-14T08:45:03.944435200Z",
     "start_time": "2025-01-14T08:45:03.931956Z"
    }
   },
   "id": "52852ff0001826c5"
  },
  {
   "cell_type": "code",
   "execution_count": 30,
   "outputs": [
    {
     "data": {
      "text/plain": "      550   2021  1631  1689  536   1202  197   2692  3014  1456  ...  1300  \\\n6040   5.0   4.0   4.0   5.0   4.0   3.0   5.0   5.0   4.0   2.0  ...   0.0   \n6039   0.0   0.0   0.0   0.0   0.0   0.0   0.0   0.0   0.0   0.0  ...   0.0   \n6038   0.0   0.0   0.0   0.0   0.0   0.0   0.0   0.0   0.0   0.0  ...   0.0   \n6037   5.0   0.0   0.0   0.0   0.0   0.0   0.0   0.0   4.0   0.0  ...   0.0   \n6036   5.0   0.0   4.0   5.0   0.0   4.0   2.0   4.0   4.0   0.0  ...   0.0   \n...    ...   ...   ...   ...   ...   ...   ...   ...   ...   ...  ...   ...   \n159    0.0   0.0   0.0   0.0   0.0   0.0   0.0   0.0   0.0   0.0  ...   0.0   \n1265   4.0   0.0   0.0   0.0   0.0   0.0   0.0   0.0   0.0   0.0  ...   0.0   \n349    0.0   0.0   0.0   0.0   0.0   0.0   0.0   0.0   0.0   0.0  ...   0.0   \n2910   4.0   0.0   0.0   0.0   0.0   0.0   0.0   0.0   0.0   0.0  ...   0.0   \n2947   3.0   0.0   0.0   0.0   0.0   0.0   0.0   0.0   0.0   0.0  ...   0.0   \n\n      928   374   1375  1242  835   3338  2220  3237  3334  \n6040   0.0   0.0   0.0   0.0   0.0   0.0   0.0   0.0   0.0  \n6039   0.0   0.0   0.0   0.0   0.0   0.0   0.0   0.0   0.0  \n6038   0.0   0.0   0.0   0.0   0.0   0.0   0.0   0.0   0.0  \n6037   0.0   0.0   0.0   0.0   0.0   0.0   0.0   0.0   0.0  \n6036   0.0   0.0   0.0   0.0   0.0   0.0   0.0   0.0   0.0  \n...    ...   ...   ...   ...   ...   ...   ...   ...   ...  \n159    0.0   0.0   0.0   0.0   0.0   0.0   0.0   0.0   0.0  \n1265   0.0   0.0   0.0   0.0   0.0   0.0   0.0   0.0   4.0  \n349    0.0   0.0   0.0   0.0   0.0   0.0   0.0   0.0   0.0  \n2910   0.0   0.0   0.0   0.0   0.0   0.0   0.0   0.0   0.0  \n2947   0.0   0.0   0.0   0.0   0.0   0.0   0.0   0.0   0.0  \n\n[6040 rows x 3408 columns]",
      "text/html": "<div>\n<style scoped>\n    .dataframe tbody tr th:only-of-type {\n        vertical-align: middle;\n    }\n\n    .dataframe tbody tr th {\n        vertical-align: top;\n    }\n\n    .dataframe thead th {\n        text-align: right;\n    }\n</style>\n<table border=\"1\" class=\"dataframe\">\n  <thead>\n    <tr style=\"text-align: right;\">\n      <th></th>\n      <th>550</th>\n      <th>2021</th>\n      <th>1631</th>\n      <th>1689</th>\n      <th>536</th>\n      <th>1202</th>\n      <th>197</th>\n      <th>2692</th>\n      <th>3014</th>\n      <th>1456</th>\n      <th>...</th>\n      <th>1300</th>\n      <th>928</th>\n      <th>374</th>\n      <th>1375</th>\n      <th>1242</th>\n      <th>835</th>\n      <th>3338</th>\n      <th>2220</th>\n      <th>3237</th>\n      <th>3334</th>\n    </tr>\n  </thead>\n  <tbody>\n    <tr>\n      <th>6040</th>\n      <td>5.0</td>\n      <td>4.0</td>\n      <td>4.0</td>\n      <td>5.0</td>\n      <td>4.0</td>\n      <td>3.0</td>\n      <td>5.0</td>\n      <td>5.0</td>\n      <td>4.0</td>\n      <td>2.0</td>\n      <td>...</td>\n      <td>0.0</td>\n      <td>0.0</td>\n      <td>0.0</td>\n      <td>0.0</td>\n      <td>0.0</td>\n      <td>0.0</td>\n      <td>0.0</td>\n      <td>0.0</td>\n      <td>0.0</td>\n      <td>0.0</td>\n    </tr>\n    <tr>\n      <th>6039</th>\n      <td>0.0</td>\n      <td>0.0</td>\n      <td>0.0</td>\n      <td>0.0</td>\n      <td>0.0</td>\n      <td>0.0</td>\n      <td>0.0</td>\n      <td>0.0</td>\n      <td>0.0</td>\n      <td>0.0</td>\n      <td>...</td>\n      <td>0.0</td>\n      <td>0.0</td>\n      <td>0.0</td>\n      <td>0.0</td>\n      <td>0.0</td>\n      <td>0.0</td>\n      <td>0.0</td>\n      <td>0.0</td>\n      <td>0.0</td>\n      <td>0.0</td>\n    </tr>\n    <tr>\n      <th>6038</th>\n      <td>0.0</td>\n      <td>0.0</td>\n      <td>0.0</td>\n      <td>0.0</td>\n      <td>0.0</td>\n      <td>0.0</td>\n      <td>0.0</td>\n      <td>0.0</td>\n      <td>0.0</td>\n      <td>0.0</td>\n      <td>...</td>\n      <td>0.0</td>\n      <td>0.0</td>\n      <td>0.0</td>\n      <td>0.0</td>\n      <td>0.0</td>\n      <td>0.0</td>\n      <td>0.0</td>\n      <td>0.0</td>\n      <td>0.0</td>\n      <td>0.0</td>\n    </tr>\n    <tr>\n      <th>6037</th>\n      <td>5.0</td>\n      <td>0.0</td>\n      <td>0.0</td>\n      <td>0.0</td>\n      <td>0.0</td>\n      <td>0.0</td>\n      <td>0.0</td>\n      <td>0.0</td>\n      <td>4.0</td>\n      <td>0.0</td>\n      <td>...</td>\n      <td>0.0</td>\n      <td>0.0</td>\n      <td>0.0</td>\n      <td>0.0</td>\n      <td>0.0</td>\n      <td>0.0</td>\n      <td>0.0</td>\n      <td>0.0</td>\n      <td>0.0</td>\n      <td>0.0</td>\n    </tr>\n    <tr>\n      <th>6036</th>\n      <td>5.0</td>\n      <td>0.0</td>\n      <td>4.0</td>\n      <td>5.0</td>\n      <td>0.0</td>\n      <td>4.0</td>\n      <td>2.0</td>\n      <td>4.0</td>\n      <td>4.0</td>\n      <td>0.0</td>\n      <td>...</td>\n      <td>0.0</td>\n      <td>0.0</td>\n      <td>0.0</td>\n      <td>0.0</td>\n      <td>0.0</td>\n      <td>0.0</td>\n      <td>0.0</td>\n      <td>0.0</td>\n      <td>0.0</td>\n      <td>0.0</td>\n    </tr>\n    <tr>\n      <th>...</th>\n      <td>...</td>\n      <td>...</td>\n      <td>...</td>\n      <td>...</td>\n      <td>...</td>\n      <td>...</td>\n      <td>...</td>\n      <td>...</td>\n      <td>...</td>\n      <td>...</td>\n      <td>...</td>\n      <td>...</td>\n      <td>...</td>\n      <td>...</td>\n      <td>...</td>\n      <td>...</td>\n      <td>...</td>\n      <td>...</td>\n      <td>...</td>\n      <td>...</td>\n      <td>...</td>\n    </tr>\n    <tr>\n      <th>159</th>\n      <td>0.0</td>\n      <td>0.0</td>\n      <td>0.0</td>\n      <td>0.0</td>\n      <td>0.0</td>\n      <td>0.0</td>\n      <td>0.0</td>\n      <td>0.0</td>\n      <td>0.0</td>\n      <td>0.0</td>\n      <td>...</td>\n      <td>0.0</td>\n      <td>0.0</td>\n      <td>0.0</td>\n      <td>0.0</td>\n      <td>0.0</td>\n      <td>0.0</td>\n      <td>0.0</td>\n      <td>0.0</td>\n      <td>0.0</td>\n      <td>0.0</td>\n    </tr>\n    <tr>\n      <th>1265</th>\n      <td>4.0</td>\n      <td>0.0</td>\n      <td>0.0</td>\n      <td>0.0</td>\n      <td>0.0</td>\n      <td>0.0</td>\n      <td>0.0</td>\n      <td>0.0</td>\n      <td>0.0</td>\n      <td>0.0</td>\n      <td>...</td>\n      <td>0.0</td>\n      <td>0.0</td>\n      <td>0.0</td>\n      <td>0.0</td>\n      <td>0.0</td>\n      <td>0.0</td>\n      <td>0.0</td>\n      <td>0.0</td>\n      <td>0.0</td>\n      <td>4.0</td>\n    </tr>\n    <tr>\n      <th>349</th>\n      <td>0.0</td>\n      <td>0.0</td>\n      <td>0.0</td>\n      <td>0.0</td>\n      <td>0.0</td>\n      <td>0.0</td>\n      <td>0.0</td>\n      <td>0.0</td>\n      <td>0.0</td>\n      <td>0.0</td>\n      <td>...</td>\n      <td>0.0</td>\n      <td>0.0</td>\n      <td>0.0</td>\n      <td>0.0</td>\n      <td>0.0</td>\n      <td>0.0</td>\n      <td>0.0</td>\n      <td>0.0</td>\n      <td>0.0</td>\n      <td>0.0</td>\n    </tr>\n    <tr>\n      <th>2910</th>\n      <td>4.0</td>\n      <td>0.0</td>\n      <td>0.0</td>\n      <td>0.0</td>\n      <td>0.0</td>\n      <td>0.0</td>\n      <td>0.0</td>\n      <td>0.0</td>\n      <td>0.0</td>\n      <td>0.0</td>\n      <td>...</td>\n      <td>0.0</td>\n      <td>0.0</td>\n      <td>0.0</td>\n      <td>0.0</td>\n      <td>0.0</td>\n      <td>0.0</td>\n      <td>0.0</td>\n      <td>0.0</td>\n      <td>0.0</td>\n      <td>0.0</td>\n    </tr>\n    <tr>\n      <th>2947</th>\n      <td>3.0</td>\n      <td>0.0</td>\n      <td>0.0</td>\n      <td>0.0</td>\n      <td>0.0</td>\n      <td>0.0</td>\n      <td>0.0</td>\n      <td>0.0</td>\n      <td>0.0</td>\n      <td>0.0</td>\n      <td>...</td>\n      <td>0.0</td>\n      <td>0.0</td>\n      <td>0.0</td>\n      <td>0.0</td>\n      <td>0.0</td>\n      <td>0.0</td>\n      <td>0.0</td>\n      <td>0.0</td>\n      <td>0.0</td>\n      <td>0.0</td>\n    </tr>\n  </tbody>\n</table>\n<p>6040 rows × 3408 columns</p>\n</div>"
     },
     "execution_count": 30,
     "metadata": {},
     "output_type": "execute_result"
    }
   ],
   "source": [
    "# 创建DataFrame\n",
    "rating_df = pd.DataFrame(rating_matrix, \n",
    "                         index=unique_users,  # 设置行索引为user_id\n",
    "                         columns=unique_items)  # 设置列名为item_id\n",
    "rating_df"
   ],
   "metadata": {
    "collapsed": false,
    "ExecuteTime": {
     "end_time": "2025-01-14T08:45:39.216646300Z",
     "start_time": "2025-01-14T08:45:39.173460900Z"
    }
   },
   "id": "2004acc01746f016"
  },
  {
   "cell_type": "code",
   "execution_count": 31,
   "outputs": [],
   "source": [
    "rating_df.to_csv(os.path.join(RAW_PATH, 'morem_c.csv'), sep='\\t', index=False)"
   ],
   "metadata": {
    "collapsed": false,
    "ExecuteTime": {
     "end_time": "2025-01-14T08:47:03.511580500Z",
     "start_time": "2025-01-14T08:46:57.889641500Z"
    }
   },
   "id": "aee16267047d648f"
  },
  {
   "cell_type": "code",
   "execution_count": 22,
   "outputs": [
    {
     "data": {
      "text/plain": "      item_id                               title  i_Action  i_Adventure  \\\n0           1                    Toy Story (1995)         0            0   \n1           2                      Jumanji (1995)         0            1   \n2           3             Grumpier Old Men (1995)         0            0   \n3           4            Waiting to Exhale (1995)         0            0   \n4           5  Father of the Bride Part II (1995)         0            0   \n...       ...                                 ...       ...          ...   \n3878     3948             Meet the Parents (2000)         0            0   \n3879     3949          Requiem for a Dream (2000)         0            0   \n3880     3950                    Tigerland (2000)         0            0   \n3881     3951             Two Family House (2000)         0            0   \n3882     3952               Contender, The (2000)         0            0   \n\n      i_Animation  i_Children's  i_Comedy  i_Crime  i_Documentary  i_Drama  \\\n0               1             1         1        0              0        0   \n1               0             1         0        0              0        0   \n2               0             0         1        0              0        0   \n3               0             0         1        0              0        1   \n4               0             0         1        0              0        0   \n...           ...           ...       ...      ...            ...      ...   \n3878            0             0         1        0              0        0   \n3879            0             0         0        0              0        1   \n3880            0             0         0        0              0        1   \n3881            0             0         0        0              0        1   \n3882            0             0         0        0              0        1   \n\n      ...  i_Film-Noir  i_Horror  i_Musical  i_Mystery  i_Romance  i_Sci-Fi  \\\n0     ...            0         0          0          0          0         0   \n1     ...            0         0          0          0          0         0   \n2     ...            0         0          0          0          1         0   \n3     ...            0         0          0          0          0         0   \n4     ...            0         0          0          0          0         0   \n...   ...          ...       ...        ...        ...        ...       ...   \n3878  ...            0         0          0          0          0         0   \n3879  ...            0         0          0          0          0         0   \n3880  ...            0         0          0          0          0         0   \n3881  ...            0         0          0          0          0         0   \n3882  ...            0         0          0          0          0         0   \n\n      i_Thriller  i_War  i_Western  i_Other  \n0              0      0          0        0  \n1              0      0          0        0  \n2              0      0          0        0  \n3              0      0          0        0  \n4              0      0          0        0  \n...          ...    ...        ...      ...  \n3878           0      0          0        0  \n3879           0      0          0        0  \n3880           0      0          0        0  \n3881           0      0          0        0  \n3882           1      0          0        0  \n\n[3706 rows x 21 columns]",
      "text/html": "<div>\n<style scoped>\n    .dataframe tbody tr th:only-of-type {\n        vertical-align: middle;\n    }\n\n    .dataframe tbody tr th {\n        vertical-align: top;\n    }\n\n    .dataframe thead th {\n        text-align: right;\n    }\n</style>\n<table border=\"1\" class=\"dataframe\">\n  <thead>\n    <tr style=\"text-align: right;\">\n      <th></th>\n      <th>item_id</th>\n      <th>title</th>\n      <th>i_Action</th>\n      <th>i_Adventure</th>\n      <th>i_Animation</th>\n      <th>i_Children's</th>\n      <th>i_Comedy</th>\n      <th>i_Crime</th>\n      <th>i_Documentary</th>\n      <th>i_Drama</th>\n      <th>...</th>\n      <th>i_Film-Noir</th>\n      <th>i_Horror</th>\n      <th>i_Musical</th>\n      <th>i_Mystery</th>\n      <th>i_Romance</th>\n      <th>i_Sci-Fi</th>\n      <th>i_Thriller</th>\n      <th>i_War</th>\n      <th>i_Western</th>\n      <th>i_Other</th>\n    </tr>\n  </thead>\n  <tbody>\n    <tr>\n      <th>0</th>\n      <td>1</td>\n      <td>Toy Story (1995)</td>\n      <td>0</td>\n      <td>0</td>\n      <td>1</td>\n      <td>1</td>\n      <td>1</td>\n      <td>0</td>\n      <td>0</td>\n      <td>0</td>\n      <td>...</td>\n      <td>0</td>\n      <td>0</td>\n      <td>0</td>\n      <td>0</td>\n      <td>0</td>\n      <td>0</td>\n      <td>0</td>\n      <td>0</td>\n      <td>0</td>\n      <td>0</td>\n    </tr>\n    <tr>\n      <th>1</th>\n      <td>2</td>\n      <td>Jumanji (1995)</td>\n      <td>0</td>\n      <td>1</td>\n      <td>0</td>\n      <td>1</td>\n      <td>0</td>\n      <td>0</td>\n      <td>0</td>\n      <td>0</td>\n      <td>...</td>\n      <td>0</td>\n      <td>0</td>\n      <td>0</td>\n      <td>0</td>\n      <td>0</td>\n      <td>0</td>\n      <td>0</td>\n      <td>0</td>\n      <td>0</td>\n      <td>0</td>\n    </tr>\n    <tr>\n      <th>2</th>\n      <td>3</td>\n      <td>Grumpier Old Men (1995)</td>\n      <td>0</td>\n      <td>0</td>\n      <td>0</td>\n      <td>0</td>\n      <td>1</td>\n      <td>0</td>\n      <td>0</td>\n      <td>0</td>\n      <td>...</td>\n      <td>0</td>\n      <td>0</td>\n      <td>0</td>\n      <td>0</td>\n      <td>1</td>\n      <td>0</td>\n      <td>0</td>\n      <td>0</td>\n      <td>0</td>\n      <td>0</td>\n    </tr>\n    <tr>\n      <th>3</th>\n      <td>4</td>\n      <td>Waiting to Exhale (1995)</td>\n      <td>0</td>\n      <td>0</td>\n      <td>0</td>\n      <td>0</td>\n      <td>1</td>\n      <td>0</td>\n      <td>0</td>\n      <td>1</td>\n      <td>...</td>\n      <td>0</td>\n      <td>0</td>\n      <td>0</td>\n      <td>0</td>\n      <td>0</td>\n      <td>0</td>\n      <td>0</td>\n      <td>0</td>\n      <td>0</td>\n      <td>0</td>\n    </tr>\n    <tr>\n      <th>4</th>\n      <td>5</td>\n      <td>Father of the Bride Part II (1995)</td>\n      <td>0</td>\n      <td>0</td>\n      <td>0</td>\n      <td>0</td>\n      <td>1</td>\n      <td>0</td>\n      <td>0</td>\n      <td>0</td>\n      <td>...</td>\n      <td>0</td>\n      <td>0</td>\n      <td>0</td>\n      <td>0</td>\n      <td>0</td>\n      <td>0</td>\n      <td>0</td>\n      <td>0</td>\n      <td>0</td>\n      <td>0</td>\n    </tr>\n    <tr>\n      <th>...</th>\n      <td>...</td>\n      <td>...</td>\n      <td>...</td>\n      <td>...</td>\n      <td>...</td>\n      <td>...</td>\n      <td>...</td>\n      <td>...</td>\n      <td>...</td>\n      <td>...</td>\n      <td>...</td>\n      <td>...</td>\n      <td>...</td>\n      <td>...</td>\n      <td>...</td>\n      <td>...</td>\n      <td>...</td>\n      <td>...</td>\n      <td>...</td>\n      <td>...</td>\n      <td>...</td>\n    </tr>\n    <tr>\n      <th>3878</th>\n      <td>3948</td>\n      <td>Meet the Parents (2000)</td>\n      <td>0</td>\n      <td>0</td>\n      <td>0</td>\n      <td>0</td>\n      <td>1</td>\n      <td>0</td>\n      <td>0</td>\n      <td>0</td>\n      <td>...</td>\n      <td>0</td>\n      <td>0</td>\n      <td>0</td>\n      <td>0</td>\n      <td>0</td>\n      <td>0</td>\n      <td>0</td>\n      <td>0</td>\n      <td>0</td>\n      <td>0</td>\n    </tr>\n    <tr>\n      <th>3879</th>\n      <td>3949</td>\n      <td>Requiem for a Dream (2000)</td>\n      <td>0</td>\n      <td>0</td>\n      <td>0</td>\n      <td>0</td>\n      <td>0</td>\n      <td>0</td>\n      <td>0</td>\n      <td>1</td>\n      <td>...</td>\n      <td>0</td>\n      <td>0</td>\n      <td>0</td>\n      <td>0</td>\n      <td>0</td>\n      <td>0</td>\n      <td>0</td>\n      <td>0</td>\n      <td>0</td>\n      <td>0</td>\n    </tr>\n    <tr>\n      <th>3880</th>\n      <td>3950</td>\n      <td>Tigerland (2000)</td>\n      <td>0</td>\n      <td>0</td>\n      <td>0</td>\n      <td>0</td>\n      <td>0</td>\n      <td>0</td>\n      <td>0</td>\n      <td>1</td>\n      <td>...</td>\n      <td>0</td>\n      <td>0</td>\n      <td>0</td>\n      <td>0</td>\n      <td>0</td>\n      <td>0</td>\n      <td>0</td>\n      <td>0</td>\n      <td>0</td>\n      <td>0</td>\n    </tr>\n    <tr>\n      <th>3881</th>\n      <td>3951</td>\n      <td>Two Family House (2000)</td>\n      <td>0</td>\n      <td>0</td>\n      <td>0</td>\n      <td>0</td>\n      <td>0</td>\n      <td>0</td>\n      <td>0</td>\n      <td>1</td>\n      <td>...</td>\n      <td>0</td>\n      <td>0</td>\n      <td>0</td>\n      <td>0</td>\n      <td>0</td>\n      <td>0</td>\n      <td>0</td>\n      <td>0</td>\n      <td>0</td>\n      <td>0</td>\n    </tr>\n    <tr>\n      <th>3882</th>\n      <td>3952</td>\n      <td>Contender, The (2000)</td>\n      <td>0</td>\n      <td>0</td>\n      <td>0</td>\n      <td>0</td>\n      <td>0</td>\n      <td>0</td>\n      <td>0</td>\n      <td>1</td>\n      <td>...</td>\n      <td>0</td>\n      <td>0</td>\n      <td>0</td>\n      <td>0</td>\n      <td>0</td>\n      <td>0</td>\n      <td>1</td>\n      <td>0</td>\n      <td>0</td>\n      <td>0</td>\n    </tr>\n  </tbody>\n</table>\n<p>3706 rows × 21 columns</p>\n</div>"
     },
     "execution_count": 22,
     "metadata": {},
     "output_type": "execute_result"
    }
   ],
   "source": [
    "item_df"
   ],
   "metadata": {
    "collapsed": false,
    "ExecuteTime": {
     "end_time": "2025-01-14T08:37:32.904537900Z",
     "start_time": "2025-01-14T08:37:32.870205800Z"
    }
   },
   "id": "6b3cdf4b4558ce1a"
  },
  {
   "cell_type": "code",
   "execution_count": 12,
   "outputs": [
    {
     "data": {
      "text/plain": "   user_id  item_id       time\n0     6040      721  956703932\n1     6040      550  956703954\n2     6040     2021  956703954\n3     6040     1631  956703977\n4     6040     1689  956703977",
      "text/html": "<div>\n<style scoped>\n    .dataframe tbody tr th:only-of-type {\n        vertical-align: middle;\n    }\n\n    .dataframe tbody tr th {\n        vertical-align: top;\n    }\n\n    .dataframe thead th {\n        text-align: right;\n    }\n</style>\n<table border=\"1\" class=\"dataframe\">\n  <thead>\n    <tr style=\"text-align: right;\">\n      <th></th>\n      <th>user_id</th>\n      <th>item_id</th>\n      <th>time</th>\n    </tr>\n  </thead>\n  <tbody>\n    <tr>\n      <th>0</th>\n      <td>6040</td>\n      <td>721</td>\n      <td>956703932</td>\n    </tr>\n    <tr>\n      <th>1</th>\n      <td>6040</td>\n      <td>550</td>\n      <td>956703954</td>\n    </tr>\n    <tr>\n      <th>2</th>\n      <td>6040</td>\n      <td>2021</td>\n      <td>956703954</td>\n    </tr>\n    <tr>\n      <th>3</th>\n      <td>6040</td>\n      <td>1631</td>\n      <td>956703977</td>\n    </tr>\n    <tr>\n      <th>4</th>\n      <td>6040</td>\n      <td>1689</td>\n      <td>956703977</td>\n    </tr>\n  </tbody>\n</table>\n</div>"
     },
     "execution_count": 12,
     "metadata": {},
     "output_type": "execute_result"
    }
   ],
   "source": [
    "train_df.head()"
   ],
   "metadata": {
    "collapsed": false,
    "ExecuteTime": {
     "end_time": "2024-05-29T09:14:21.743470700Z",
     "start_time": "2024-05-29T09:14:21.742478200Z"
    }
   },
   "id": "80121acc42803e49"
  },
  {
   "cell_type": "code",
   "execution_count": 13,
   "outputs": [
    {
     "data": {
      "text/plain": "        user_id  item_id       time  \\\n909584        1      552  978824268   \n904058        2     1490  978299941   \n903814        3     1069  978298231   \n903710        4     1039  978294260   \n903439        5      482  978245891   \n\n                                                neg_items  \n909584  [2298, 649, 546, 1, 1993, 1937, 674, 1315, 157...  \n904058  [1160, 1308, 2123, 1173, 671, 2481, 2688, 345,...  \n903814  [909, 1058, 1064, 1378, 1993, 3056, 100, 3340,...  \n903710  [2547, 876, 1624, 3295, 667, 2667, 267, 1437, ...  \n903439  [1440, 1389, 380, 6, 2608, 1380, 2801, 2988, 1...  ",
      "text/html": "<div>\n<style scoped>\n    .dataframe tbody tr th:only-of-type {\n        vertical-align: middle;\n    }\n\n    .dataframe tbody tr th {\n        vertical-align: top;\n    }\n\n    .dataframe thead th {\n        text-align: right;\n    }\n</style>\n<table border=\"1\" class=\"dataframe\">\n  <thead>\n    <tr style=\"text-align: right;\">\n      <th></th>\n      <th>user_id</th>\n      <th>item_id</th>\n      <th>time</th>\n      <th>neg_items</th>\n    </tr>\n  </thead>\n  <tbody>\n    <tr>\n      <th>909584</th>\n      <td>1</td>\n      <td>552</td>\n      <td>978824268</td>\n      <td>[2298, 649, 546, 1, 1993, 1937, 674, 1315, 157...</td>\n    </tr>\n    <tr>\n      <th>904058</th>\n      <td>2</td>\n      <td>1490</td>\n      <td>978299941</td>\n      <td>[1160, 1308, 2123, 1173, 671, 2481, 2688, 345,...</td>\n    </tr>\n    <tr>\n      <th>903814</th>\n      <td>3</td>\n      <td>1069</td>\n      <td>978298231</td>\n      <td>[909, 1058, 1064, 1378, 1993, 3056, 100, 3340,...</td>\n    </tr>\n    <tr>\n      <th>903710</th>\n      <td>4</td>\n      <td>1039</td>\n      <td>978294260</td>\n      <td>[2547, 876, 1624, 3295, 667, 2667, 267, 1437, ...</td>\n    </tr>\n    <tr>\n      <th>903439</th>\n      <td>5</td>\n      <td>482</td>\n      <td>978245891</td>\n      <td>[1440, 1389, 380, 6, 2608, 1380, 2801, 2988, 1...</td>\n    </tr>\n  </tbody>\n</table>\n</div>"
     },
     "execution_count": 13,
     "metadata": {},
     "output_type": "execute_result"
    }
   ],
   "source": [
    "test_df.head()"
   ],
   "metadata": {
    "collapsed": false,
    "ExecuteTime": {
     "end_time": "2024-05-29T09:14:21.744969700Z",
     "start_time": "2024-05-29T09:14:21.743470700Z"
    }
   },
   "id": "7cb8171fc3632978"
  },
  {
   "cell_type": "code",
   "execution_count": 14,
   "outputs": [
    {
     "data": {
      "text/plain": "        user_id  item_id       time  \\\n904125        1     2514  978302124   \n904013        2     1960  978299666   \n903766        3     2233  978297837   \n903706        4     2543  978294230   \n903399        5     1593  978245314   \n\n                                                neg_items  \n904125  [2298, 649, 546, 1, 1993, 1937, 674, 1315, 157...  \n904013  [1160, 1308, 2123, 1173, 671, 2481, 2688, 345,...  \n903766  [909, 1058, 1064, 1378, 1993, 3056, 100, 3340,...  \n903706  [2547, 876, 1624, 765, 2217, 2086, 1030, 1376,...  \n903399  [1440, 1389, 380, 6, 2608, 1380, 2801, 2988, 1...  ",
      "text/html": "<div>\n<style scoped>\n    .dataframe tbody tr th:only-of-type {\n        vertical-align: middle;\n    }\n\n    .dataframe tbody tr th {\n        vertical-align: top;\n    }\n\n    .dataframe thead th {\n        text-align: right;\n    }\n</style>\n<table border=\"1\" class=\"dataframe\">\n  <thead>\n    <tr style=\"text-align: right;\">\n      <th></th>\n      <th>user_id</th>\n      <th>item_id</th>\n      <th>time</th>\n      <th>neg_items</th>\n    </tr>\n  </thead>\n  <tbody>\n    <tr>\n      <th>904125</th>\n      <td>1</td>\n      <td>2514</td>\n      <td>978302124</td>\n      <td>[2298, 649, 546, 1, 1993, 1937, 674, 1315, 157...</td>\n    </tr>\n    <tr>\n      <th>904013</th>\n      <td>2</td>\n      <td>1960</td>\n      <td>978299666</td>\n      <td>[1160, 1308, 2123, 1173, 671, 2481, 2688, 345,...</td>\n    </tr>\n    <tr>\n      <th>903766</th>\n      <td>3</td>\n      <td>2233</td>\n      <td>978297837</td>\n      <td>[909, 1058, 1064, 1378, 1993, 3056, 100, 3340,...</td>\n    </tr>\n    <tr>\n      <th>903706</th>\n      <td>4</td>\n      <td>2543</td>\n      <td>978294230</td>\n      <td>[2547, 876, 1624, 765, 2217, 2086, 1030, 1376,...</td>\n    </tr>\n    <tr>\n      <th>903399</th>\n      <td>5</td>\n      <td>1593</td>\n      <td>978245314</td>\n      <td>[1440, 1389, 380, 6, 2608, 1380, 2801, 2988, 1...</td>\n    </tr>\n  </tbody>\n</table>\n</div>"
     },
     "execution_count": 14,
     "metadata": {},
     "output_type": "execute_result"
    }
   ],
   "source": [
    "dev_df.head()"
   ],
   "metadata": {
    "collapsed": false,
    "ExecuteTime": {
     "end_time": "2024-05-29T09:14:21.756458Z",
     "start_time": "2024-05-29T09:14:21.743470700Z"
    }
   },
   "id": "c183a10df7f6572c"
  },
  {
   "cell_type": "code",
   "execution_count": 21,
   "outputs": [
    {
     "name": "stdout",
     "output_type": "stream",
     "text": [
      "Unexpected exception formatting exception. Falling back to standard exception\n"
     ]
    },
    {
     "name": "stderr",
     "output_type": "stream",
     "text": [
      "Traceback (most recent call last):\n",
      "  File \"/home/wuruxin/.local/lib/python3.8/site-packages/IPython/core/interactiveshell.py\", line 3460, in run_code\n",
      "    exec(code_obj, self.user_global_ns, self.user_ns)\n",
      "  File \"/tmp/ipykernel_836989/1546356384.py\", line 1, in <module>\n",
      "    item_df['item_id'] = item_df['item_id'].apply(lambda x: item2id[x])\n",
      "  File \"/home/wuruxin/.local/lib/python3.8/site-packages/pandas/core/series.py\", line 4630, in apply\n",
      "    return SeriesApply(self, func, convert_dtype, args, kwargs).apply()\n",
      "  File \"/home/wuruxin/.local/lib/python3.8/site-packages/pandas/core/apply.py\", line 1025, in apply\n",
      "    return self.apply_standard()\n",
      "  File \"/home/wuruxin/.local/lib/python3.8/site-packages/pandas/core/apply.py\", line 1076, in apply_standard\n",
      "    mapped = lib.map_infer(\n",
      "  File \"pandas/_libs/lib.pyx\", line 2834, in pandas._libs.lib.map_infer\n",
      "  File \"/tmp/ipykernel_836989/1546356384.py\", line 1, in <lambda>\n",
      "    item_df['item_id'] = item_df['item_id'].apply(lambda x: item2id[x])\n",
      "KeyError: 33\n",
      "\n",
      "During handling of the above exception, another exception occurred:\n",
      "\n",
      "Traceback (most recent call last):\n",
      "  File \"/home/wuruxin/.local/lib/python3.8/site-packages/IPython/core/interactiveshell.py\", line 2057, in showtraceback\n",
      "    stb = self.InteractiveTB.structured_traceback(\n",
      "  File \"/home/wuruxin/.local/lib/python3.8/site-packages/IPython/core/ultratb.py\", line 1118, in structured_traceback\n",
      "    return FormattedTB.structured_traceback(\n",
      "  File \"/home/wuruxin/.local/lib/python3.8/site-packages/IPython/core/ultratb.py\", line 1012, in structured_traceback\n",
      "    return VerboseTB.structured_traceback(\n",
      "  File \"/home/wuruxin/.local/lib/python3.8/site-packages/IPython/core/ultratb.py\", line 865, in structured_traceback\n",
      "    formatted_exception = self.format_exception_as_a_whole(etype, evalue, etb, number_of_lines_of_context,\n",
      "  File \"/home/wuruxin/.local/lib/python3.8/site-packages/IPython/core/ultratb.py\", line 818, in format_exception_as_a_whole\n",
      "    frames.append(self.format_record(r))\n",
      "  File \"/home/wuruxin/.local/lib/python3.8/site-packages/IPython/core/ultratb.py\", line 736, in format_record\n",
      "    result += ''.join(_format_traceback_lines(frame_info.lines, Colors, self.has_colors, lvals))\n",
      "  File \"/home/wuruxin/.local/lib/python3.8/site-packages/stack_data/utils.py\", line 145, in cached_property_wrapper\n",
      "    value = obj.__dict__[self.func.__name__] = self.func(obj)\n",
      "  File \"/home/wuruxin/.local/lib/python3.8/site-packages/stack_data/core.py\", line 734, in lines\n",
      "    pieces = self.included_pieces\n",
      "  File \"/home/wuruxin/.local/lib/python3.8/site-packages/stack_data/utils.py\", line 145, in cached_property_wrapper\n",
      "    value = obj.__dict__[self.func.__name__] = self.func(obj)\n",
      "  File \"/home/wuruxin/.local/lib/python3.8/site-packages/stack_data/core.py\", line 677, in included_pieces\n",
      "    scope_pieces = self.scope_pieces\n",
      "  File \"/home/wuruxin/.local/lib/python3.8/site-packages/stack_data/utils.py\", line 145, in cached_property_wrapper\n",
      "    value = obj.__dict__[self.func.__name__] = self.func(obj)\n",
      "  File \"/home/wuruxin/.local/lib/python3.8/site-packages/stack_data/core.py\", line 614, in scope_pieces\n",
      "    scope_start, scope_end = self.source.line_range(self.scope)\n",
      "  File \"/home/wuruxin/.local/lib/python3.8/site-packages/stack_data/core.py\", line 178, in line_range\n",
      "    return line_range(self.asttext(), node)\n",
      "AttributeError: 'Source' object has no attribute 'asttext'\n"
     ]
    }
   ],
   "source": [
    "item_df['item_id'] = item_df['item_id'].apply(lambda x: item2id[x])\n",
    "\n",
    "if DATASET == 'ml-1m':\n",
    "    item_df['i_year'] = item_df['title'].apply(lambda x: int(re.match('.+\\((\\d{4})\\)$', x).group(1)))\n",
    "    item_df = item_df.drop(columns=['title'])\n",
    "elif DATASET == 'ml-100k':\n",
    "    item_df['i_year'] = item_df['i_year'].apply(lambda x: int(str(x).split('-')[-1]) if pd.notnull(x) else 0)\n",
    "seps = [1900, 1940, 1950, 1960, 1970, 1980, 1985] + list(range(1990, int(item_df['i_year'].max() + 2)))\n",
    "year_dict = {}\n",
    "for i, sep in enumerate(seps[:-1]):\n",
    "    for j in range(seps[i], seps[i + 1]):\n",
    "        year_dict[j] = i + 1\n",
    "item_df['i_year'] = item_df['i_year'].apply(lambda x: year_dict[x] if x > 0 else 0)\n",
    "    \n",
    "item_df.head()"
   ],
   "metadata": {
    "collapsed": false,
    "ExecuteTime": {
     "end_time": "2025-01-14T08:36:19.974277600Z",
     "start_time": "2025-01-14T08:36:19.773213200Z"
    }
   },
   "id": "78e4998e5732a330"
  },
  {
   "cell_type": "code",
   "execution_count": 47,
   "outputs": [],
   "source": [],
   "metadata": {
    "collapsed": false,
    "ExecuteTime": {
     "end_time": "2024-05-29T06:24:19.866473300Z",
     "start_time": "2024-05-29T06:24:19.792578400Z"
    }
   },
   "id": "4bf93c4ee34b737b"
  },
  {
   "cell_type": "code",
   "execution_count": 48,
   "outputs": [
    {
     "data": {
      "text/plain": "      item_id  i_Action  i_Adventure  i_Animation  i_Children's  i_Comedy  \\\n0           1         0            0            1             1         1   \n1           2         0            1            0             1         0   \n2           3         0            0            0             0         1   \n3           4         0            0            0             0         1   \n4           5         0            0            0             0         1   \n...       ...       ...          ...          ...           ...       ...   \n3878     3948         0            0            0             0         1   \n3879     3949         0            0            0             0         0   \n3880     3950         0            0            0             0         0   \n3881     3951         0            0            0             0         0   \n3882     3952         0            0            0             0         0   \n\n      i_Crime  i_Documentary  i_Drama  i_Fantasy  ...  i_Horror  i_Musical  \\\n0           0              0        0          0  ...         0          0   \n1           0              0        0          1  ...         0          0   \n2           0              0        0          0  ...         0          0   \n3           0              0        1          0  ...         0          0   \n4           0              0        0          0  ...         0          0   \n...       ...            ...      ...        ...  ...       ...        ...   \n3878        0              0        0          0  ...         0          0   \n3879        0              0        1          0  ...         0          0   \n3880        0              0        1          0  ...         0          0   \n3881        0              0        1          0  ...         0          0   \n3882        0              0        1          0  ...         0          0   \n\n      i_Mystery  i_Romance  i_Sci-Fi  i_Thriller  i_War  i_Western  i_Other  \\\n0             0          0         0           0      0          0        0   \n1             0          0         0           0      0          0        0   \n2             0          1         0           0      0          0        0   \n3             0          0         0           0      0          0        0   \n4             0          0         0           0      0          0        0   \n...         ...        ...       ...         ...    ...        ...      ...   \n3878          0          0         0           0      0          0        0   \n3879          0          0         0           0      0          0        0   \n3880          0          0         0           0      0          0        0   \n3881          0          0         0           0      0          0        0   \n3882          0          0         0           1      0          0        0   \n\n      i_year  \n0         13  \n1         13  \n2         13  \n3         13  \n4         13  \n...      ...  \n3878      18  \n3879      18  \n3880      18  \n3881      18  \n3882      18  \n\n[3706 rows x 21 columns]",
      "text/html": "<div>\n<style scoped>\n    .dataframe tbody tr th:only-of-type {\n        vertical-align: middle;\n    }\n\n    .dataframe tbody tr th {\n        vertical-align: top;\n    }\n\n    .dataframe thead th {\n        text-align: right;\n    }\n</style>\n<table border=\"1\" class=\"dataframe\">\n  <thead>\n    <tr style=\"text-align: right;\">\n      <th></th>\n      <th>item_id</th>\n      <th>i_Action</th>\n      <th>i_Adventure</th>\n      <th>i_Animation</th>\n      <th>i_Children's</th>\n      <th>i_Comedy</th>\n      <th>i_Crime</th>\n      <th>i_Documentary</th>\n      <th>i_Drama</th>\n      <th>i_Fantasy</th>\n      <th>...</th>\n      <th>i_Horror</th>\n      <th>i_Musical</th>\n      <th>i_Mystery</th>\n      <th>i_Romance</th>\n      <th>i_Sci-Fi</th>\n      <th>i_Thriller</th>\n      <th>i_War</th>\n      <th>i_Western</th>\n      <th>i_Other</th>\n      <th>i_year</th>\n    </tr>\n  </thead>\n  <tbody>\n    <tr>\n      <th>0</th>\n      <td>1</td>\n      <td>0</td>\n      <td>0</td>\n      <td>1</td>\n      <td>1</td>\n      <td>1</td>\n      <td>0</td>\n      <td>0</td>\n      <td>0</td>\n      <td>0</td>\n      <td>...</td>\n      <td>0</td>\n      <td>0</td>\n      <td>0</td>\n      <td>0</td>\n      <td>0</td>\n      <td>0</td>\n      <td>0</td>\n      <td>0</td>\n      <td>0</td>\n      <td>13</td>\n    </tr>\n    <tr>\n      <th>1</th>\n      <td>2</td>\n      <td>0</td>\n      <td>1</td>\n      <td>0</td>\n      <td>1</td>\n      <td>0</td>\n      <td>0</td>\n      <td>0</td>\n      <td>0</td>\n      <td>1</td>\n      <td>...</td>\n      <td>0</td>\n      <td>0</td>\n      <td>0</td>\n      <td>0</td>\n      <td>0</td>\n      <td>0</td>\n      <td>0</td>\n      <td>0</td>\n      <td>0</td>\n      <td>13</td>\n    </tr>\n    <tr>\n      <th>2</th>\n      <td>3</td>\n      <td>0</td>\n      <td>0</td>\n      <td>0</td>\n      <td>0</td>\n      <td>1</td>\n      <td>0</td>\n      <td>0</td>\n      <td>0</td>\n      <td>0</td>\n      <td>...</td>\n      <td>0</td>\n      <td>0</td>\n      <td>0</td>\n      <td>1</td>\n      <td>0</td>\n      <td>0</td>\n      <td>0</td>\n      <td>0</td>\n      <td>0</td>\n      <td>13</td>\n    </tr>\n    <tr>\n      <th>3</th>\n      <td>4</td>\n      <td>0</td>\n      <td>0</td>\n      <td>0</td>\n      <td>0</td>\n      <td>1</td>\n      <td>0</td>\n      <td>0</td>\n      <td>1</td>\n      <td>0</td>\n      <td>...</td>\n      <td>0</td>\n      <td>0</td>\n      <td>0</td>\n      <td>0</td>\n      <td>0</td>\n      <td>0</td>\n      <td>0</td>\n      <td>0</td>\n      <td>0</td>\n      <td>13</td>\n    </tr>\n    <tr>\n      <th>4</th>\n      <td>5</td>\n      <td>0</td>\n      <td>0</td>\n      <td>0</td>\n      <td>0</td>\n      <td>1</td>\n      <td>0</td>\n      <td>0</td>\n      <td>0</td>\n      <td>0</td>\n      <td>...</td>\n      <td>0</td>\n      <td>0</td>\n      <td>0</td>\n      <td>0</td>\n      <td>0</td>\n      <td>0</td>\n      <td>0</td>\n      <td>0</td>\n      <td>0</td>\n      <td>13</td>\n    </tr>\n    <tr>\n      <th>...</th>\n      <td>...</td>\n      <td>...</td>\n      <td>...</td>\n      <td>...</td>\n      <td>...</td>\n      <td>...</td>\n      <td>...</td>\n      <td>...</td>\n      <td>...</td>\n      <td>...</td>\n      <td>...</td>\n      <td>...</td>\n      <td>...</td>\n      <td>...</td>\n      <td>...</td>\n      <td>...</td>\n      <td>...</td>\n      <td>...</td>\n      <td>...</td>\n      <td>...</td>\n      <td>...</td>\n    </tr>\n    <tr>\n      <th>3878</th>\n      <td>3948</td>\n      <td>0</td>\n      <td>0</td>\n      <td>0</td>\n      <td>0</td>\n      <td>1</td>\n      <td>0</td>\n      <td>0</td>\n      <td>0</td>\n      <td>0</td>\n      <td>...</td>\n      <td>0</td>\n      <td>0</td>\n      <td>0</td>\n      <td>0</td>\n      <td>0</td>\n      <td>0</td>\n      <td>0</td>\n      <td>0</td>\n      <td>0</td>\n      <td>18</td>\n    </tr>\n    <tr>\n      <th>3879</th>\n      <td>3949</td>\n      <td>0</td>\n      <td>0</td>\n      <td>0</td>\n      <td>0</td>\n      <td>0</td>\n      <td>0</td>\n      <td>0</td>\n      <td>1</td>\n      <td>0</td>\n      <td>...</td>\n      <td>0</td>\n      <td>0</td>\n      <td>0</td>\n      <td>0</td>\n      <td>0</td>\n      <td>0</td>\n      <td>0</td>\n      <td>0</td>\n      <td>0</td>\n      <td>18</td>\n    </tr>\n    <tr>\n      <th>3880</th>\n      <td>3950</td>\n      <td>0</td>\n      <td>0</td>\n      <td>0</td>\n      <td>0</td>\n      <td>0</td>\n      <td>0</td>\n      <td>0</td>\n      <td>1</td>\n      <td>0</td>\n      <td>...</td>\n      <td>0</td>\n      <td>0</td>\n      <td>0</td>\n      <td>0</td>\n      <td>0</td>\n      <td>0</td>\n      <td>0</td>\n      <td>0</td>\n      <td>0</td>\n      <td>18</td>\n    </tr>\n    <tr>\n      <th>3881</th>\n      <td>3951</td>\n      <td>0</td>\n      <td>0</td>\n      <td>0</td>\n      <td>0</td>\n      <td>0</td>\n      <td>0</td>\n      <td>0</td>\n      <td>1</td>\n      <td>0</td>\n      <td>...</td>\n      <td>0</td>\n      <td>0</td>\n      <td>0</td>\n      <td>0</td>\n      <td>0</td>\n      <td>0</td>\n      <td>0</td>\n      <td>0</td>\n      <td>0</td>\n      <td>18</td>\n    </tr>\n    <tr>\n      <th>3882</th>\n      <td>3952</td>\n      <td>0</td>\n      <td>0</td>\n      <td>0</td>\n      <td>0</td>\n      <td>0</td>\n      <td>0</td>\n      <td>0</td>\n      <td>1</td>\n      <td>0</td>\n      <td>...</td>\n      <td>0</td>\n      <td>0</td>\n      <td>0</td>\n      <td>0</td>\n      <td>0</td>\n      <td>1</td>\n      <td>0</td>\n      <td>0</td>\n      <td>0</td>\n      <td>18</td>\n    </tr>\n  </tbody>\n</table>\n<p>3706 rows × 21 columns</p>\n</div>"
     },
     "execution_count": 48,
     "metadata": {},
     "output_type": "execute_result"
    }
   ],
   "source": [
    "item_df"
   ],
   "metadata": {
    "collapsed": false,
    "ExecuteTime": {
     "end_time": "2024-05-29T06:24:19.866473300Z",
     "start_time": "2024-05-29T06:24:19.792578400Z"
    }
   },
   "id": "e4bf6c904e0adaa7"
  },
  {
   "cell_type": "code",
   "execution_count": 49,
   "outputs": [
    {
     "data": {
      "text/plain": "   user_id  item_id       time\n0     6040      550  956703954\n1     6040     2021  956703954\n2     6040     1631  956703977\n3     6040     1689  956703977\n4     6040      536  956704056",
      "text/html": "<div>\n<style scoped>\n    .dataframe tbody tr th:only-of-type {\n        vertical-align: middle;\n    }\n\n    .dataframe tbody tr th {\n        vertical-align: top;\n    }\n\n    .dataframe thead th {\n        text-align: right;\n    }\n</style>\n<table border=\"1\" class=\"dataframe\">\n  <thead>\n    <tr style=\"text-align: right;\">\n      <th></th>\n      <th>user_id</th>\n      <th>item_id</th>\n      <th>time</th>\n    </tr>\n  </thead>\n  <tbody>\n    <tr>\n      <th>0</th>\n      <td>6040</td>\n      <td>550</td>\n      <td>956703954</td>\n    </tr>\n    <tr>\n      <th>1</th>\n      <td>6040</td>\n      <td>2021</td>\n      <td>956703954</td>\n    </tr>\n    <tr>\n      <th>2</th>\n      <td>6040</td>\n      <td>1631</td>\n      <td>956703977</td>\n    </tr>\n    <tr>\n      <th>3</th>\n      <td>6040</td>\n      <td>1689</td>\n      <td>956703977</td>\n    </tr>\n    <tr>\n      <th>4</th>\n      <td>6040</td>\n      <td>536</td>\n      <td>956704056</td>\n    </tr>\n  </tbody>\n</table>\n</div>"
     },
     "execution_count": 49,
     "metadata": {},
     "output_type": "execute_result"
    }
   ],
   "source": [
    "out_df = data_df[['user_id', 'item_id', 'time']]\n",
    "out_df = out_df.drop_duplicates(['user_id', 'item_id', 'time'])\n",
    "out_df.sort_values(by=['time', 'user_id'], kind='mergesort', inplace=True)\n",
    "out_df = out_df.reset_index(drop=True)\n",
    "out_df.head()"
   ],
   "metadata": {
    "collapsed": false,
    "ExecuteTime": {
     "end_time": "2024-05-29T06:24:19.927688900Z",
     "start_time": "2024-05-29T06:24:19.792578400Z"
    }
   },
   "id": "698593a6f46640b8"
  },
  {
   "cell_type": "code",
   "execution_count": 50,
   "outputs": [
    {
     "data": {
      "text/plain": "   user_id  item_id       time\n0     6040      549  956703954\n1     6040     2017  956703954\n2     6040     1627  956703977\n3     6040     1685  956703977\n4     6040      535  956704056",
      "text/html": "<div>\n<style scoped>\n    .dataframe tbody tr th:only-of-type {\n        vertical-align: middle;\n    }\n\n    .dataframe tbody tr th {\n        vertical-align: top;\n    }\n\n    .dataframe thead th {\n        text-align: right;\n    }\n</style>\n<table border=\"1\" class=\"dataframe\">\n  <thead>\n    <tr style=\"text-align: right;\">\n      <th></th>\n      <th>user_id</th>\n      <th>item_id</th>\n      <th>time</th>\n    </tr>\n  </thead>\n  <tbody>\n    <tr>\n      <th>0</th>\n      <td>6040</td>\n      <td>549</td>\n      <td>956703954</td>\n    </tr>\n    <tr>\n      <th>1</th>\n      <td>6040</td>\n      <td>2017</td>\n      <td>956703954</td>\n    </tr>\n    <tr>\n      <th>2</th>\n      <td>6040</td>\n      <td>1627</td>\n      <td>956703977</td>\n    </tr>\n    <tr>\n      <th>3</th>\n      <td>6040</td>\n      <td>1685</td>\n      <td>956703977</td>\n    </tr>\n    <tr>\n      <th>4</th>\n      <td>6040</td>\n      <td>535</td>\n      <td>956704056</td>\n    </tr>\n  </tbody>\n</table>\n</div>"
     },
     "execution_count": 50,
     "metadata": {},
     "output_type": "execute_result"
    }
   ],
   "source": [
    "# reindex (start from 1)\n",
    "\n",
    "uids = sorted(out_df['user_id'].unique())\n",
    "user2id = dict(zip(uids, range(1, len(uids) + 1)))\n",
    "iids = sorted(out_df['item_id'].unique())\n",
    "item2id = dict(zip(iids, range(1, len(iids) + 1)))\n",
    "\n",
    "out_df['user_id'] = out_df['user_id'].apply(lambda x: user2id[x])\n",
    "out_df['item_id'] = out_df['item_id'].apply(lambda x: item2id[x])\n",
    "out_df.head()"
   ],
   "metadata": {
    "collapsed": false,
    "ExecuteTime": {
     "end_time": "2024-05-29T06:24:20.403147200Z",
     "start_time": "2024-05-29T06:24:19.916726Z"
    }
   },
   "id": "a9d0d37eb12c4927"
  },
  {
   "cell_type": "code",
   "execution_count": 53,
   "outputs": [],
   "source": [
    "item_df.to_csv(os.path.join(RAW_PATH, 'item_meta.csv'), sep='\\t', index=False)"
   ],
   "metadata": {
    "collapsed": false,
    "ExecuteTime": {
     "end_time": "2024-05-29T06:25:21.735338700Z",
     "start_time": "2024-05-29T06:25:21.699289900Z"
    }
   },
   "id": "eac9205bf7648d58"
  },
  {
   "cell_type": "code",
   "execution_count": 27,
   "outputs": [],
   "source": [
    "import numpy as np\n",
    "import pandas as pd"
   ],
   "metadata": {
    "collapsed": false,
    "ExecuteTime": {
     "end_time": "2025-03-06T12:46:18.923047Z",
     "start_time": "2025-03-06T12:46:18.904611900Z"
    }
   },
   "id": "eec30cbcb1da8882"
  },
  {
   "cell_type": "code",
   "execution_count": 28,
   "outputs": [
    {
     "data": {
      "text/plain": "       Unnamed: 0  user_id     rec_item_list\n0               0    14681  [21 10  1  2 19]\n1               1    14681  [ 5 21 27 19  0]\n2               2    14681  [24  1 28 30  0]\n3               3    14681  [15 25  0 20 21]\n4               4    14681  [ 6  8 24  0  3]\n...           ...      ...               ...\n14675       14675    14681  [29  5  1 26 28]\n14676       14676    14681  [ 5 12 21 13  0]\n14677       14677    14681  [ 0  6 17  1  2]\n14678       14678    14681  [ 9 16 15 10  2]\n14679       14679    14681  [26 21 17  3  9]\n\n[14680 rows x 3 columns]",
      "text/html": "<div>\n<style scoped>\n    .dataframe tbody tr th:only-of-type {\n        vertical-align: middle;\n    }\n\n    .dataframe tbody tr th {\n        vertical-align: top;\n    }\n\n    .dataframe thead th {\n        text-align: right;\n    }\n</style>\n<table border=\"1\" class=\"dataframe\">\n  <thead>\n    <tr style=\"text-align: right;\">\n      <th></th>\n      <th>Unnamed: 0</th>\n      <th>user_id</th>\n      <th>rec_item_list</th>\n    </tr>\n  </thead>\n  <tbody>\n    <tr>\n      <th>0</th>\n      <td>0</td>\n      <td>14681</td>\n      <td>[21 10  1  2 19]</td>\n    </tr>\n    <tr>\n      <th>1</th>\n      <td>1</td>\n      <td>14681</td>\n      <td>[ 5 21 27 19  0]</td>\n    </tr>\n    <tr>\n      <th>2</th>\n      <td>2</td>\n      <td>14681</td>\n      <td>[24  1 28 30  0]</td>\n    </tr>\n    <tr>\n      <th>3</th>\n      <td>3</td>\n      <td>14681</td>\n      <td>[15 25  0 20 21]</td>\n    </tr>\n    <tr>\n      <th>4</th>\n      <td>4</td>\n      <td>14681</td>\n      <td>[ 6  8 24  0  3]</td>\n    </tr>\n    <tr>\n      <th>...</th>\n      <td>...</td>\n      <td>...</td>\n      <td>...</td>\n    </tr>\n    <tr>\n      <th>14675</th>\n      <td>14675</td>\n      <td>14681</td>\n      <td>[29  5  1 26 28]</td>\n    </tr>\n    <tr>\n      <th>14676</th>\n      <td>14676</td>\n      <td>14681</td>\n      <td>[ 5 12 21 13  0]</td>\n    </tr>\n    <tr>\n      <th>14677</th>\n      <td>14677</td>\n      <td>14681</td>\n      <td>[ 0  6 17  1  2]</td>\n    </tr>\n    <tr>\n      <th>14678</th>\n      <td>14678</td>\n      <td>14681</td>\n      <td>[ 9 16 15 10  2]</td>\n    </tr>\n    <tr>\n      <th>14679</th>\n      <td>14679</td>\n      <td>14681</td>\n      <td>[26 21 17  3  9]</td>\n    </tr>\n  </tbody>\n</table>\n<p>14680 rows × 3 columns</p>\n</div>"
     },
     "execution_count": 28,
     "metadata": {},
     "output_type": "execute_result"
    }
   ],
   "source": [
    "data_df = pd.read_csv('/data1/wrx/test/ReChorus/src/emmr_Grocery_GRU4Rec_5.csv', sep='\\t')\n",
    "data_df"
   ],
   "metadata": {
    "collapsed": false,
    "ExecuteTime": {
     "end_time": "2025-03-06T12:46:19.412173900Z",
     "start_time": "2025-03-06T12:46:19.364927600Z"
    }
   },
   "id": "c734e03c0928e56c"
  },
  {
   "cell_type": "code",
   "execution_count": 29,
   "outputs": [
    {
     "data": {
      "text/plain": "       Unnamed: 0     rec_item_list\n0               0  [21 10  1  2 19]\n1               1  [ 5 21 27 19  0]\n2               2  [24  1 28 30  0]\n3               3  [15 25  0 20 21]\n4               4  [ 6  8 24  0  3]\n...           ...               ...\n14675       14675  [29  5  1 26 28]\n14676       14676  [ 5 12 21 13  0]\n14677       14677  [ 0  6 17  1  2]\n14678       14678  [ 9 16 15 10  2]\n14679       14679  [26 21 17  3  9]\n\n[14680 rows x 2 columns]",
      "text/html": "<div>\n<style scoped>\n    .dataframe tbody tr th:only-of-type {\n        vertical-align: middle;\n    }\n\n    .dataframe tbody tr th {\n        vertical-align: top;\n    }\n\n    .dataframe thead th {\n        text-align: right;\n    }\n</style>\n<table border=\"1\" class=\"dataframe\">\n  <thead>\n    <tr style=\"text-align: right;\">\n      <th></th>\n      <th>Unnamed: 0</th>\n      <th>rec_item_list</th>\n    </tr>\n  </thead>\n  <tbody>\n    <tr>\n      <th>0</th>\n      <td>0</td>\n      <td>[21 10  1  2 19]</td>\n    </tr>\n    <tr>\n      <th>1</th>\n      <td>1</td>\n      <td>[ 5 21 27 19  0]</td>\n    </tr>\n    <tr>\n      <th>2</th>\n      <td>2</td>\n      <td>[24  1 28 30  0]</td>\n    </tr>\n    <tr>\n      <th>3</th>\n      <td>3</td>\n      <td>[15 25  0 20 21]</td>\n    </tr>\n    <tr>\n      <th>4</th>\n      <td>4</td>\n      <td>[ 6  8 24  0  3]</td>\n    </tr>\n    <tr>\n      <th>...</th>\n      <td>...</td>\n      <td>...</td>\n    </tr>\n    <tr>\n      <th>14675</th>\n      <td>14675</td>\n      <td>[29  5  1 26 28]</td>\n    </tr>\n    <tr>\n      <th>14676</th>\n      <td>14676</td>\n      <td>[ 5 12 21 13  0]</td>\n    </tr>\n    <tr>\n      <th>14677</th>\n      <td>14677</td>\n      <td>[ 0  6 17  1  2]</td>\n    </tr>\n    <tr>\n      <th>14678</th>\n      <td>14678</td>\n      <td>[ 9 16 15 10  2]</td>\n    </tr>\n    <tr>\n      <th>14679</th>\n      <td>14679</td>\n      <td>[26 21 17  3  9]</td>\n    </tr>\n  </tbody>\n</table>\n<p>14680 rows × 2 columns</p>\n</div>"
     },
     "execution_count": 29,
     "metadata": {},
     "output_type": "execute_result"
    }
   ],
   "source": [
    "data_df = data_df.drop(columns=['user_id'])\n",
    "data_df"
   ],
   "metadata": {
    "collapsed": false,
    "ExecuteTime": {
     "end_time": "2025-03-06T12:46:21.106610600Z",
     "start_time": "2025-03-06T12:46:21.094746600Z"
    }
   },
   "id": "f54450f40f75be5b"
  },
  {
   "cell_type": "code",
   "execution_count": 30,
   "outputs": [
    {
     "data": {
      "text/plain": "       user_id               ind\n0            0  [21 10  1  2 19]\n1            1  [ 5 21 27 19  0]\n2            2  [24  1 28 30  0]\n3            3  [15 25  0 20 21]\n4            4  [ 6  8 24  0  3]\n...        ...               ...\n14675    14675  [29  5  1 26 28]\n14676    14676  [ 5 12 21 13  0]\n14677    14677  [ 0  6 17  1  2]\n14678    14678  [ 9 16 15 10  2]\n14679    14679  [26 21 17  3  9]\n\n[14680 rows x 2 columns]",
      "text/html": "<div>\n<style scoped>\n    .dataframe tbody tr th:only-of-type {\n        vertical-align: middle;\n    }\n\n    .dataframe tbody tr th {\n        vertical-align: top;\n    }\n\n    .dataframe thead th {\n        text-align: right;\n    }\n</style>\n<table border=\"1\" class=\"dataframe\">\n  <thead>\n    <tr style=\"text-align: right;\">\n      <th></th>\n      <th>user_id</th>\n      <th>ind</th>\n    </tr>\n  </thead>\n  <tbody>\n    <tr>\n      <th>0</th>\n      <td>0</td>\n      <td>[21 10  1  2 19]</td>\n    </tr>\n    <tr>\n      <th>1</th>\n      <td>1</td>\n      <td>[ 5 21 27 19  0]</td>\n    </tr>\n    <tr>\n      <th>2</th>\n      <td>2</td>\n      <td>[24  1 28 30  0]</td>\n    </tr>\n    <tr>\n      <th>3</th>\n      <td>3</td>\n      <td>[15 25  0 20 21]</td>\n    </tr>\n    <tr>\n      <th>4</th>\n      <td>4</td>\n      <td>[ 6  8 24  0  3]</td>\n    </tr>\n    <tr>\n      <th>...</th>\n      <td>...</td>\n      <td>...</td>\n    </tr>\n    <tr>\n      <th>14675</th>\n      <td>14675</td>\n      <td>[29  5  1 26 28]</td>\n    </tr>\n    <tr>\n      <th>14676</th>\n      <td>14676</td>\n      <td>[ 5 12 21 13  0]</td>\n    </tr>\n    <tr>\n      <th>14677</th>\n      <td>14677</td>\n      <td>[ 0  6 17  1  2]</td>\n    </tr>\n    <tr>\n      <th>14678</th>\n      <td>14678</td>\n      <td>[ 9 16 15 10  2]</td>\n    </tr>\n    <tr>\n      <th>14679</th>\n      <td>14679</td>\n      <td>[26 21 17  3  9]</td>\n    </tr>\n  </tbody>\n</table>\n<p>14680 rows × 2 columns</p>\n</div>"
     },
     "execution_count": 30,
     "metadata": {},
     "output_type": "execute_result"
    }
   ],
   "source": [
    "data_df.rename(columns={'Unnamed: 0':'user_id', 'rec_item_list':'ind'}, inplace=True)\n",
    "data_df"
   ],
   "metadata": {
    "collapsed": false,
    "ExecuteTime": {
     "end_time": "2025-03-06T12:46:23.070311100Z",
     "start_time": "2025-03-06T12:46:23.066320900Z"
    }
   },
   "id": "5cb9a5bff51a308f"
  },
  {
   "cell_type": "code",
   "execution_count": 33,
   "outputs": [],
   "source": [
    "data_df.to_csv(\"result_5_emmr_Grocery_and_Gourmet_Food_GRU4Rec.csv\", sep='\\t')"
   ],
   "metadata": {
    "collapsed": false,
    "ExecuteTime": {
     "end_time": "2025-03-06T12:47:53.333899400Z",
     "start_time": "2025-03-06T12:47:53.293034200Z"
    }
   },
   "id": "740c67281a3f4c20"
  },
  {
   "cell_type": "code",
   "execution_count": 53,
   "outputs": [],
   "source": [
    "dataset = \"Clothing_Shoes_and_Jewelry\"\n",
    "k = 5\n",
    "method = \"GRU4Rec\""
   ],
   "metadata": {
    "collapsed": false,
    "ExecuteTime": {
     "end_time": "2025-03-08T13:46:02.148061700Z",
     "start_time": "2025-03-08T13:46:02.134324700Z"
    }
   },
   "id": "ee24b555ff0bbf60"
  },
  {
   "cell_type": "code",
   "execution_count": 54,
   "outputs": [],
   "source": [
    "result_df = pd.read_csv('../res_{}/k{}/emmr_{}_{}_{}.csv'.format(dataset, k, dataset, method, k), sep='\\t')"
   ],
   "metadata": {
    "collapsed": false,
    "ExecuteTime": {
     "end_time": "2025-03-08T13:46:02.660371Z",
     "start_time": "2025-03-08T13:46:02.626890800Z"
    }
   },
   "id": "15c1a258bc0d590d"
  },
  {
   "cell_type": "code",
   "execution_count": 55,
   "outputs": [
    {
     "data": {
      "text/plain": "       Unnamed: 0  user_id               ind\n0               0    39387  [20  2  8 19  0]\n1               1    39387  [ 0 17  2  4 19]\n2               2    39387  [ 5  0 10 12  6]\n3               3    39387  [ 0 20  8  6  4]\n4               4    39387  [19 15  8  5 11]\n...           ...      ...               ...\n39381       39381    39387  [20 14  1 12 15]\n39382       39382    39387  [ 3  0 15 17 13]\n39383       39383    39387  [14 17 16 10 13]\n39384       39384    39387  [18 20 15 19 12]\n39385       39385    39387  [ 2  3 17 19 12]\n\n[39386 rows x 3 columns]",
      "text/html": "<div>\n<style scoped>\n    .dataframe tbody tr th:only-of-type {\n        vertical-align: middle;\n    }\n\n    .dataframe tbody tr th {\n        vertical-align: top;\n    }\n\n    .dataframe thead th {\n        text-align: right;\n    }\n</style>\n<table border=\"1\" class=\"dataframe\">\n  <thead>\n    <tr style=\"text-align: right;\">\n      <th></th>\n      <th>Unnamed: 0</th>\n      <th>user_id</th>\n      <th>ind</th>\n    </tr>\n  </thead>\n  <tbody>\n    <tr>\n      <th>0</th>\n      <td>0</td>\n      <td>39387</td>\n      <td>[20  2  8 19  0]</td>\n    </tr>\n    <tr>\n      <th>1</th>\n      <td>1</td>\n      <td>39387</td>\n      <td>[ 0 17  2  4 19]</td>\n    </tr>\n    <tr>\n      <th>2</th>\n      <td>2</td>\n      <td>39387</td>\n      <td>[ 5  0 10 12  6]</td>\n    </tr>\n    <tr>\n      <th>3</th>\n      <td>3</td>\n      <td>39387</td>\n      <td>[ 0 20  8  6  4]</td>\n    </tr>\n    <tr>\n      <th>4</th>\n      <td>4</td>\n      <td>39387</td>\n      <td>[19 15  8  5 11]</td>\n    </tr>\n    <tr>\n      <th>...</th>\n      <td>...</td>\n      <td>...</td>\n      <td>...</td>\n    </tr>\n    <tr>\n      <th>39381</th>\n      <td>39381</td>\n      <td>39387</td>\n      <td>[20 14  1 12 15]</td>\n    </tr>\n    <tr>\n      <th>39382</th>\n      <td>39382</td>\n      <td>39387</td>\n      <td>[ 3  0 15 17 13]</td>\n    </tr>\n    <tr>\n      <th>39383</th>\n      <td>39383</td>\n      <td>39387</td>\n      <td>[14 17 16 10 13]</td>\n    </tr>\n    <tr>\n      <th>39384</th>\n      <td>39384</td>\n      <td>39387</td>\n      <td>[18 20 15 19 12]</td>\n    </tr>\n    <tr>\n      <th>39385</th>\n      <td>39385</td>\n      <td>39387</td>\n      <td>[ 2  3 17 19 12]</td>\n    </tr>\n  </tbody>\n</table>\n<p>39386 rows × 3 columns</p>\n</div>"
     },
     "execution_count": 55,
     "metadata": {},
     "output_type": "execute_result"
    }
   ],
   "source": [
    "result_df"
   ],
   "metadata": {
    "collapsed": false,
    "ExecuteTime": {
     "end_time": "2025-03-08T13:46:03.193633600Z",
     "start_time": "2025-03-08T13:46:03.172370500Z"
    }
   },
   "id": "df2e910cf794eab3"
  },
  {
   "cell_type": "code",
   "execution_count": 56,
   "outputs": [
    {
     "data": {
      "text/plain": "       Unnamed: 0               ind\n0               0  [20  2  8 19  0]\n1               1  [ 0 17  2  4 19]\n2               2  [ 5  0 10 12  6]\n3               3  [ 0 20  8  6  4]\n4               4  [19 15  8  5 11]\n...           ...               ...\n39381       39381  [20 14  1 12 15]\n39382       39382  [ 3  0 15 17 13]\n39383       39383  [14 17 16 10 13]\n39384       39384  [18 20 15 19 12]\n39385       39385  [ 2  3 17 19 12]\n\n[39386 rows x 2 columns]",
      "text/html": "<div>\n<style scoped>\n    .dataframe tbody tr th:only-of-type {\n        vertical-align: middle;\n    }\n\n    .dataframe tbody tr th {\n        vertical-align: top;\n    }\n\n    .dataframe thead th {\n        text-align: right;\n    }\n</style>\n<table border=\"1\" class=\"dataframe\">\n  <thead>\n    <tr style=\"text-align: right;\">\n      <th></th>\n      <th>Unnamed: 0</th>\n      <th>ind</th>\n    </tr>\n  </thead>\n  <tbody>\n    <tr>\n      <th>0</th>\n      <td>0</td>\n      <td>[20  2  8 19  0]</td>\n    </tr>\n    <tr>\n      <th>1</th>\n      <td>1</td>\n      <td>[ 0 17  2  4 19]</td>\n    </tr>\n    <tr>\n      <th>2</th>\n      <td>2</td>\n      <td>[ 5  0 10 12  6]</td>\n    </tr>\n    <tr>\n      <th>3</th>\n      <td>3</td>\n      <td>[ 0 20  8  6  4]</td>\n    </tr>\n    <tr>\n      <th>4</th>\n      <td>4</td>\n      <td>[19 15  8  5 11]</td>\n    </tr>\n    <tr>\n      <th>...</th>\n      <td>...</td>\n      <td>...</td>\n    </tr>\n    <tr>\n      <th>39381</th>\n      <td>39381</td>\n      <td>[20 14  1 12 15]</td>\n    </tr>\n    <tr>\n      <th>39382</th>\n      <td>39382</td>\n      <td>[ 3  0 15 17 13]</td>\n    </tr>\n    <tr>\n      <th>39383</th>\n      <td>39383</td>\n      <td>[14 17 16 10 13]</td>\n    </tr>\n    <tr>\n      <th>39384</th>\n      <td>39384</td>\n      <td>[18 20 15 19 12]</td>\n    </tr>\n    <tr>\n      <th>39385</th>\n      <td>39385</td>\n      <td>[ 2  3 17 19 12]</td>\n    </tr>\n  </tbody>\n</table>\n<p>39386 rows × 2 columns</p>\n</div>"
     },
     "execution_count": 56,
     "metadata": {},
     "output_type": "execute_result"
    }
   ],
   "source": [
    "result_df = result_df.drop(columns=['user_id'])\n",
    "result_df"
   ],
   "metadata": {
    "collapsed": false,
    "ExecuteTime": {
     "end_time": "2025-03-08T13:46:04.003388700Z",
     "start_time": "2025-03-08T13:46:03.960184900Z"
    }
   },
   "id": "ead513c075c34682"
  },
  {
   "cell_type": "code",
   "execution_count": 57,
   "outputs": [
    {
     "data": {
      "text/plain": "       user_id               ind\n0            0  [20  2  8 19  0]\n1            1  [ 0 17  2  4 19]\n2            2  [ 5  0 10 12  6]\n3            3  [ 0 20  8  6  4]\n4            4  [19 15  8  5 11]\n...        ...               ...\n39381    39381  [20 14  1 12 15]\n39382    39382  [ 3  0 15 17 13]\n39383    39383  [14 17 16 10 13]\n39384    39384  [18 20 15 19 12]\n39385    39385  [ 2  3 17 19 12]\n\n[39386 rows x 2 columns]",
      "text/html": "<div>\n<style scoped>\n    .dataframe tbody tr th:only-of-type {\n        vertical-align: middle;\n    }\n\n    .dataframe tbody tr th {\n        vertical-align: top;\n    }\n\n    .dataframe thead th {\n        text-align: right;\n    }\n</style>\n<table border=\"1\" class=\"dataframe\">\n  <thead>\n    <tr style=\"text-align: right;\">\n      <th></th>\n      <th>user_id</th>\n      <th>ind</th>\n    </tr>\n  </thead>\n  <tbody>\n    <tr>\n      <th>0</th>\n      <td>0</td>\n      <td>[20  2  8 19  0]</td>\n    </tr>\n    <tr>\n      <th>1</th>\n      <td>1</td>\n      <td>[ 0 17  2  4 19]</td>\n    </tr>\n    <tr>\n      <th>2</th>\n      <td>2</td>\n      <td>[ 5  0 10 12  6]</td>\n    </tr>\n    <tr>\n      <th>3</th>\n      <td>3</td>\n      <td>[ 0 20  8  6  4]</td>\n    </tr>\n    <tr>\n      <th>4</th>\n      <td>4</td>\n      <td>[19 15  8  5 11]</td>\n    </tr>\n    <tr>\n      <th>...</th>\n      <td>...</td>\n      <td>...</td>\n    </tr>\n    <tr>\n      <th>39381</th>\n      <td>39381</td>\n      <td>[20 14  1 12 15]</td>\n    </tr>\n    <tr>\n      <th>39382</th>\n      <td>39382</td>\n      <td>[ 3  0 15 17 13]</td>\n    </tr>\n    <tr>\n      <th>39383</th>\n      <td>39383</td>\n      <td>[14 17 16 10 13]</td>\n    </tr>\n    <tr>\n      <th>39384</th>\n      <td>39384</td>\n      <td>[18 20 15 19 12]</td>\n    </tr>\n    <tr>\n      <th>39385</th>\n      <td>39385</td>\n      <td>[ 2  3 17 19 12]</td>\n    </tr>\n  </tbody>\n</table>\n<p>39386 rows × 2 columns</p>\n</div>"
     },
     "execution_count": 57,
     "metadata": {},
     "output_type": "execute_result"
    }
   ],
   "source": [
    "result_df.rename(columns={'Unnamed: 0':'user_id'}, inplace=True)\n",
    "result_df"
   ],
   "metadata": {
    "collapsed": false,
    "ExecuteTime": {
     "end_time": "2025-03-08T13:46:05.696976800Z",
     "start_time": "2025-03-08T13:46:05.678178800Z"
    }
   },
   "id": "4150ee73825ee68a"
  },
  {
   "cell_type": "code",
   "execution_count": 58,
   "outputs": [],
   "source": [
    "result_df.to_csv('../res_{}/k{}/emmr_{}_{}_{}.csv'.format(dataset, k, dataset, method, k), sep='\\t')"
   ],
   "metadata": {
    "collapsed": false,
    "ExecuteTime": {
     "end_time": "2025-03-08T13:46:06.936977100Z",
     "start_time": "2025-03-08T13:46:06.805159300Z"
    }
   },
   "id": "911981769bc13bdf"
  },
  {
   "cell_type": "code",
   "execution_count": null,
   "outputs": [],
   "source": [],
   "metadata": {
    "collapsed": false
   },
   "id": "a2755f9ef833d897"
  }
 ],
 "metadata": {
  "kernelspec": {
   "display_name": "Python 3",
   "language": "python",
   "name": "python3"
  },
  "language_info": {
   "codemirror_mode": {
    "name": "ipython",
    "version": 2
   },
   "file_extension": ".py",
   "mimetype": "text/x-python",
   "name": "python",
   "nbconvert_exporter": "python",
   "pygments_lexer": "ipython2",
   "version": "2.7.6"
  }
 },
 "nbformat": 4,
 "nbformat_minor": 5
}
